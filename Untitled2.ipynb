{
 "cells": [
  {
   "cell_type": "code",
   "execution_count": null,
   "id": "96de5677",
   "metadata": {},
   "outputs": [],
   "source": [
    "n=input()\n",
    "print(n)"
   ]
  },
  {
   "cell_type": "code",
   "execution_count": null,
   "id": "35a4ae76",
   "metadata": {},
   "outputs": [],
   "source": [
    "game={'R','P','S'}\n",
    "n,m=input().split()\n",
    "if (n == 'R' and m == 'P'):\n",
    "    print(\"P\")\n",
    "elif (n == 'S' and m == 'P') or (n == 'R' and m == 'S'):\n",
    "    print(\"S\")\n",
    "else:\n",
    "    print(\"D\")"
   ]
  },
  {
   "cell_type": "code",
   "execution_count": null,
   "id": "f4171a75",
   "metadata": {},
   "outputs": [],
   "source": [
    "n=int(input())\n",
    "print(~n)"
   ]
  },
  {
   "cell_type": "code",
   "execution_count": null,
   "id": "8c920fa1",
   "metadata": {},
   "outputs": [],
   "source": [
    "n=int(input())\n",
    "A=(3*n)+5\n",
    "print(A)"
   ]
  },
  {
   "cell_type": "code",
   "execution_count": null,
   "id": "f9d41380",
   "metadata": {},
   "outputs": [],
   "source": [
    "n=int(input())\n",
    "for i in range(1,n+1):\n",
    "    print(i)"
   ]
  },
  {
   "cell_type": "code",
   "execution_count": null,
   "id": "baf89e43",
   "metadata": {},
   "outputs": [],
   "source": [
    "import math\n",
    "n=input()\n",
    "strr=str(n)\n",
    "prod=1\n",
    "list_of_number=list(map(int,strr.strip()))\n",
    "m=sum(list_of_number)\n",
    "j=prod*list_of_number\n",
    "A=sum(j)\n",
    "sum=m+A\n",
    "if sum==n:\n",
    "    print(\"Great\")\n",
    "else:\n",
    "    print(\"no\")"
   ]
  },
  {
   "cell_type": "code",
   "execution_count": null,
   "id": "9221068e",
   "metadata": {},
   "outputs": [],
   "source": [
    "n=int(input(\"Enter a number:\"))\n",
    "tot=0\n",
    "while(n>0):\n",
    "    dig=n%10\n",
    "    tot=tot+dig\n",
    "    n=n//10\n",
    "print(\"The total sum of digits is:\",tot)"
   ]
  },
  {
   "cell_type": "code",
   "execution_count": null,
   "id": "515cb65c",
   "metadata": {},
   "outputs": [],
   "source": [
    "import pandas as pd"
   ]
  },
  {
   "cell_type": "code",
   "execution_count": null,
   "id": "cda7bc6f",
   "metadata": {},
   "outputs": [],
   "source": [
    "dict_1={'apple':[3,2,1,4],'oranges':[4,3,1,2]}\n",
    "purch = pd.DataFrame(dict_1)\n",
    "purch"
   ]
  },
  {
   "cell_type": "code",
   "execution_count": null,
   "id": "b33f4f65",
   "metadata": {},
   "outputs": [],
   "source": [
    "import pandas as pd\n",
    "dict_1={'apples':[3,2,1,4],'oranges':[4,3,2,1]}\n",
    "purch=pd.DataFrame(dict_1)\n",
    "purch"
   ]
  },
  {
   "cell_type": "code",
   "execution_count": null,
   "id": "6bdf0823",
   "metadata": {},
   "outputs": [],
   "source": [
    "n=input()\n",
    "m=input()\n",
    "M=n+m\n",
    "for char in M:\n",
    "    if char in 'ABCDEFGHIJKLMNOPQRSTUVWXYZ':\n",
    "        print('yes')\n",
    "        break"
   ]
  },
  {
   "cell_type": "code",
   "execution_count": null,
   "id": "6a76273f",
   "metadata": {},
   "outputs": [],
   "source": [
    "import numpy as np\n",
    "n,k=map(int,input().split())\n",
    "A=np.arange(k)\n",
    "print(A)"
   ]
  },
  {
   "cell_type": "code",
   "execution_count": null,
   "id": "6fa52e22",
   "metadata": {},
   "outputs": [],
   "source": [
    "upper=int(input())\n",
    "for num in range(1,upper+1):\n",
    "  if num > 1:\n",
    "    for i in range(2,num):\n",
    "      if (num%i) == 0:\n",
    "        break\n",
    "      else:\n",
    "        print(num)"
   ]
  },
  {
   "cell_type": "code",
   "execution_count": null,
   "id": "f343ea09",
   "metadata": {},
   "outputs": [],
   "source": [
    "lower = int(input(\"Enter lower range: \"))  \n",
    "upper = int(input(\"Enter upper range: \"))  \n",
    "  \n",
    "for num in range(lower,upper + 1):  \n",
    "   if num > 1:  \n",
    "       for i in range(2,num):  \n",
    "           if (num % i) == 0:  \n",
    "               break  \n",
    "       else:  \n",
    "           print(num)  "
   ]
  },
  {
   "cell_type": "code",
   "execution_count": null,
   "id": "a414ce49",
   "metadata": {},
   "outputs": [],
   "source": [
    "n=int(input())\n",
    "arr=[int(x) for x in input().split()]\n",
    "for i in range(n+1):\n",
    "    for j in range(len(arr)):\n",
    "        if i != arr[j]:\n",
    "            print(i)\n",
    "            break"
   ]
  },
  {
   "cell_type": "code",
   "execution_count": null,
   "id": "b70a3199",
   "metadata": {},
   "outputs": [],
   "source": [
    "arr=[int(x) for x in input().split()]\n",
    "print(arr[-1])"
   ]
  },
  {
   "cell_type": "code",
   "execution_count": null,
   "id": "8c51a417",
   "metadata": {},
   "outputs": [],
   "source": [
    "arr = [1,2,3,4,5,6,7,9,10]\n",
    "missing_elements = []\n",
    "for ele in range(arr[0], arr[-1]+1):\n",
    "    if ele not in arr:\n",
    "        missing_elements.append(ele)\n",
    "print(missing_elements)"
   ]
  },
  {
   "cell_type": "code",
   "execution_count": null,
   "id": "31d4d54f",
   "metadata": {},
   "outputs": [],
   "source": [
    "n=int(input())\n",
    "arr=[int(x) for x in input().split()]\n",
    "missing_element=[]\n",
    "for i in range(1,n+1):\n",
    "    if i not in arr:\n",
    "        missing_element.append(i)\n",
    "print(*missing_element)"
   ]
  },
  {
   "cell_type": "code",
   "execution_count": null,
   "id": "70615e92",
   "metadata": {},
   "outputs": [],
   "source": [
    "n,k,m=input().split()\n",
    "for char in n:\n",
    "    if char in k and m:\n",
    "        print(char,end='')\n",
    "   "
   ]
  },
  {
   "cell_type": "code",
   "execution_count": null,
   "id": "a7d9042c",
   "metadata": {},
   "outputs": [],
   "source": [
    "n=int(input())\n",
    "arr=[int(x) for x in input().split()]\n",
    "for i in range(0,len(arr)):\n",
    "    for j in range(i+1,len(arr)):\n",
    "        if arr[i] - arr[j] >= 0:\n",
    "            print(arr[i]-arr[j],end=' ')"
   ]
  },
  {
   "cell_type": "code",
   "execution_count": null,
   "id": "df7fb1f8",
   "metadata": {},
   "outputs": [],
   "source": [
    "n,k=map(int,input().split())\n",
    "arr=[int(x) for x in input().split()]\n",
    "if k in arr:\n",
    "    print(arr.remove(k))\n"
   ]
  },
  {
   "cell_type": "code",
   "execution_count": null,
   "id": "6f827760",
   "metadata": {},
   "outputs": [],
   "source": [
    "str=input()\n"
   ]
  },
  {
   "cell_type": "code",
   "execution_count": null,
   "id": "45cb3baf",
   "metadata": {},
   "outputs": [],
   "source": [
    "string=input()\n",
    "for i in string:\n",
    "    count=0\n",
    "    for j in string:\n",
    "        if i == j:\n",
    "            count += 1\n",
    "        if count > 1:\n",
    "            break\n",
    "    if count == 1:\n",
    "        print(i,end='')\n",
    "    else:\n",
    "        print(i,end='')"
   ]
  },
  {
   "cell_type": "code",
   "execution_count": null,
   "id": "516de206",
   "metadata": {},
   "outputs": [],
   "source": [
    "#take user input\n",
    "String = input('Enter the string :')\n",
    "for i in String:\n",
    "    #initialize a count variable\n",
    "    count = 0\n",
    "    for j in String:\n",
    "        #check for repeated characters\n",
    "        if i == j:\n",
    "            count+=1\n",
    "        #if character is found more than 1 time\n",
    "        #brerak the loop\n",
    "        if count > 1:\n",
    "            break\n",
    "    #print for nonrepeating characters\n",
    "    if count == 1:\n",
    "        print(i,end = \" \")"
   ]
  },
  {
   "cell_type": "code",
   "execution_count": null,
   "id": "7618999b",
   "metadata": {},
   "outputs": [],
   "source": [
    "n=input()\n",
    "n=int(n)\n",
    "print(max(n))"
   ]
  },
  {
   "cell_type": "code",
   "execution_count": null,
   "id": "22240db5",
   "metadata": {},
   "outputs": [],
   "source": [
    "n=input()\n",
    "\n",
    "if (n[0] == 'a' or 'A') and (n[1] == 'm' or 'M') and (n[2] == 'z' or 'Z'):\n",
    "    print('1')\n",
    "else:\n",
    "    print('0')"
   ]
  },
  {
   "cell_type": "code",
   "execution_count": null,
   "id": "a793e32a",
   "metadata": {},
   "outputs": [],
   "source": [
    "n=input()\n",
    "if n[1] == 's' or 'S':\n",
    "    print('1')\n",
    "    print(n[1])"
   ]
  },
  {
   "cell_type": "code",
   "execution_count": null,
   "id": "d65a0866",
   "metadata": {},
   "outputs": [],
   "source": [
    "my_str = input()  \n",
    "words = my_str.split()  \n",
    "words.sort()  \n",
    "for word in words:  \n",
    "    print(word,end=' ')  \n"
   ]
  },
  {
   "cell_type": "code",
   "execution_count": null,
   "id": "4fff5d21",
   "metadata": {},
   "outputs": [],
   "source": [
    "n,m=input().split()\n",
    "for char in n:\n",
    "    if char not in m:\n",
    "        print(char,end='')\n",
    "    "
   ]
  },
  {
   "cell_type": "code",
   "execution_count": null,
   "id": "05243fda",
   "metadata": {},
   "outputs": [],
   "source": [
    "n=input()\n",
    "m='dhoni'\n",
    "reverse=n[::-1]\n",
    "reverse_1=m[::-1]\n",
    "if reverse == reverse_1:\n",
    "    print('yes')"
   ]
  },
  {
   "cell_type": "code",
   "execution_count": null,
   "id": "e580474f",
   "metadata": {},
   "outputs": [],
   "source": [
    "#take user input\n",
    "String = input('Enter the string :')\n",
    "for i in String:\n",
    "    #initialize a count variable\n",
    "    count = 0\n",
    "    for j in String:\n",
    "        #check for repeated characters\n",
    "        if i == j:\n",
    "            count+=1\n",
    "        #if character is found more than 1 time\n",
    "        #brerak the loop\n",
    "        if count > 1:\n",
    "            break\n",
    "    #print for nonrepeating characters\n",
    "    if count == 1:\n",
    "        print(i,end = \"\")"
   ]
  },
  {
   "cell_type": "code",
   "execution_count": null,
   "id": "70861175",
   "metadata": {},
   "outputs": [],
   "source": [
    "string=input()\n",
    "for i in string:\n",
    "    count=0\n",
    "    for j in string:\n",
    "        if i == j:\n",
    "            count += 1\n",
    "        if count > 1:\n",
    "            break\n",
    "    if count == 1:\n",
    "        print(i,end='')"
   ]
  },
  {
   "cell_type": "code",
   "execution_count": null,
   "id": "7e2ef819",
   "metadata": {},
   "outputs": [],
   "source": [
    "list=[1,2,3,4,5]\n",
    "n=input()\n",
    "def n_in_list(x):\n",
    "    return 'n' in x"
   ]
  },
  {
   "cell_type": "code",
   "execution_count": null,
   "id": "f6e9638e",
   "metadata": {},
   "outputs": [],
   "source": [
    "n=int(input())\n",
    "arr=[int(x) for x in input().split()]\n",
    "for i in range(len(arr)):\n",
    "    if arr[i] == i:\n",
    "        print(i,end=' ')\n",
    "    else:\n",
    "        print('-1')\n",
    "        break"
   ]
  },
  {
   "cell_type": "code",
   "execution_count": null,
   "id": "91dd3db9",
   "metadata": {},
   "outputs": [],
   "source": [
    "try:\n",
    "    n=int(input())\n",
    "    for num in range(1,n+1):\n",
    "        if num > 1:\n",
    "            for i in range(2,num):\n",
    "                if (num % i) == 0:\n",
    "                    break\n",
    "            else:\n",
    "                print(num,end=' ')\n",
    "except:\n",
    "    pass"
   ]
  },
  {
   "cell_type": "code",
   "execution_count": null,
   "id": "655e4cbf",
   "metadata": {},
   "outputs": [],
   "source": [
    "def common_prefix(str1,str2):\n",
    "    n1=len(str1)\n",
    "    n2=len(str2)\n",
    "    \n",
    "    result=''\n",
    "    \n",
    "    i=0\n",
    "    j=0\n",
    "    \n",
    "    while(i<=n1-1 and j<=n2-2):\n",
    "        if str1[i] != str2[j]:\n",
    "            break\n",
    "        result += (str1[i])\n",
    "        \n",
    "        i += 1\n",
    "        j += 1\n",
    "    return result\n",
    "n=int(input())\n",
    "str1=input()\n",
    "str2=input()\n",
    "print(common_prefix(str1,str2))"
   ]
  },
  {
   "cell_type": "code",
   "execution_count": null,
   "id": "8fe91121",
   "metadata": {},
   "outputs": [],
   "source": [
    "arr1=[int(x) for x in input().split()]\n",
    "arr2=[int(x) for x in input().split()]\n",
    "for i in range(len(arr1)):\n",
    "    if arr1[i] in arr2:\n",
    "        print(arr1[i])\n",
    "      \n",
    "    "
   ]
  },
  {
   "cell_type": "code",
   "execution_count": null,
   "id": "3ba0ebbd",
   "metadata": {},
   "outputs": [],
   "source": [
    "n,k=map(int,input().split())\n",
    "arr=[int(x) for x in input().split()]\n",
    "for i in range(0,len(arr)):\n",
    "    for j in range(i+1,len(arr)):\n",
    "        if arr[i]+arr[j] == k:\n",
    "            print('yes')\n",
    "            break\n",
    "            "
   ]
  },
  {
   "cell_type": "code",
   "execution_count": null,
   "id": "e7b77491",
   "metadata": {},
   "outputs": [],
   "source": [
    "try:\n",
    "    n=int(input())\n",
    "    arr=[int(x) for x in input().split()]\n",
    "    for i in range(len(arr)-1,-1,-1):\n",
    "         print(arr[i],end=' ')\n",
    "except:\n",
    "    pass\n"
   ]
  },
  {
   "cell_type": "code",
   "execution_count": null,
   "id": "782f8c71",
   "metadata": {},
   "outputs": [],
   "source": [
    "for i in range(2,2):\n",
    "    print(i+1)"
   ]
  },
  {
   "cell_type": "code",
   "execution_count": null,
   "id": "5d9ce045",
   "metadata": {},
   "outputs": [],
   "source": [
    "print(2%2)"
   ]
  },
  {
   "cell_type": "code",
   "execution_count": null,
   "id": "1d734b97",
   "metadata": {},
   "outputs": [],
   "source": [
    "s=input()\n",
    "for i in (s):\n",
    "    for j in (s):\n",
    "        if i == j:\n",
    "            print(i)"
   ]
  },
  {
   "cell_type": "code",
   "execution_count": null,
   "id": "47a6f0d6",
   "metadata": {},
   "outputs": [],
   "source": [
    "n,k,m=input().split()\n",
    "for char in n:\n",
    "    for i in k:\n",
    "        for j in m:\n",
    "            if char==i==j:\n",
    "                A=char\n",
    "                for i in A:\n",
    "                    for j in A:\n",
    "                        if i == j:\n",
    "                            print(A.replace('i',''))"
   ]
  },
  {
   "cell_type": "code",
   "execution_count": null,
   "id": "257568e6",
   "metadata": {},
   "outputs": [],
   "source": [
    "arr=[int(x) for x in input().split()]\n",
    "for i in range(0,len(arr)):\n",
    "    for j in range(i+1,len(arr)):\n",
    "        if arr[i] - arr[j] == 1:\n",
    "            print(max(arr[i],arr[j]))"
   ]
  },
  {
   "cell_type": "code",
   "execution_count": null,
   "id": "87241e00",
   "metadata": {},
   "outputs": [],
   "source": [
    "x = [0,5,10,15,20]\n",
    ">>> xdiff = [x[n]-x[n-1] for n in range(1,len(x))]\n",
    ">>> xdiff"
   ]
  },
  {
   "cell_type": "code",
   "execution_count": null,
   "id": "10ab827c",
   "metadata": {},
   "outputs": [],
   "source": [
    "arr=[int(x) for x in input().split()]\n",
    "for n in range(1,len(arr)):\n",
    "    if arr[n-1]-arr[n] == 1:\n",
    "        print(max(arr[n-1]))"
   ]
  },
  {
   "cell_type": "code",
   "execution_count": null,
   "id": "849ec306",
   "metadata": {},
   "outputs": [],
   "source": [
    "arr=[int(x) for x in input().split()]\n",
    "for i in range(len(arr)):\n",
    "    for j in range(len(arr)):\n",
    "        print(arr[j] - arr[i]) \n",
    "            "
   ]
  },
  {
   "cell_type": "code",
   "execution_count": null,
   "id": "66e7d9ba",
   "metadata": {},
   "outputs": [],
   "source": [
    "s=input()\n",
    "n=input()\n",
    "if n in s:\n",
    "    print(s.index(n[0]))\n",
    "else:\n",
    "    print('-1')"
   ]
  },
  {
   "cell_type": "code",
   "execution_count": null,
   "id": "3f168a20",
   "metadata": {},
   "outputs": [],
   "source": [
    "string1 = 'sathua' \n",
    "string2 = 'hat' \n",
    "s1 = set(string1) \n",
    "s2 = set(string2) \n",
    "common_char = s1 & s2"
   ]
  },
  {
   "cell_type": "code",
   "execution_count": null,
   "id": "957c03ad",
   "metadata": {},
   "outputs": [],
   "source": [
    "print(common_char)"
   ]
  },
  {
   "cell_type": "code",
   "execution_count": null,
   "id": "3905ddba",
   "metadata": {},
   "outputs": [],
   "source": [
    "str1=input()\n",
    "str2=input()\n",
    "str3=input()\n",
    "s1=set(str1)\n",
    "s2=set(str2)\n",
    "s3=set(str3)\n",
    "common_char=s1&s2&s3\n",
    "print(*common_char)"
   ]
  },
  {
   "cell_type": "code",
   "execution_count": null,
   "id": "01bdab07",
   "metadata": {},
   "outputs": [],
   "source": [
    "# Python program to find N largest\n",
    "# element from given list of integers\n",
    "\n",
    "# Function returns N largest elements\n",
    "def Nmaxelements(list1, N):\n",
    "\tfinal_list = []\n",
    "\n",
    "\tfor i in range(0, N):\n",
    "\t\tmax1 = 0\n",
    "\t\t\n",
    "\t\tfor j in range(len(list1)):\t\n",
    "\t\t\tif list1[j] > max1:\n",
    "\t\t\t\tmax1 = list1[j];\n",
    "\t\t\t\t\n",
    "\t\tlist1.remove(max1);\n",
    "\t\tfinal_list.append(max1)\n",
    "\t\t\n",
    "\tprint(final_list)\n",
    "\n",
    "# Driver code\n",
    "list1 = [2, 6, 41, 85, 0, 3, 7, 6, 10]\n",
    "N = 2\n",
    "\n",
    "# Calling the function\n",
    "Nmaxelements(list1, N)\n"
   ]
  },
  {
   "cell_type": "code",
   "execution_count": null,
   "id": "6cb16ea4",
   "metadata": {},
   "outputs": [],
   "source": [
    "list_1=[int(x) for x in input().split()]\n",
    "N=int(input())\n",
    "for i in range(0,N):\n",
    "    max1=0\n",
    "    for j in range(len(list)):\n",
    "        if list[j] > max1:\n",
    "            max1=list[j]\n",
    "   \n",
    "    for i in list:\n",
    "        if i != list_1:\n",
    "            print(i)"
   ]
  },
  {
   "cell_type": "code",
   "execution_count": null,
   "id": "cb5d1e33",
   "metadata": {},
   "outputs": [],
   "source": [
    "n=input()\n",
    "d=int(input())\n",
    "Rfirst=n[0:len(n)-d]\n",
    "Rsecond=n[len(n)-d:]\n",
    "print(Rsecond+Rfirst)"
   ]
  },
  {
   "cell_type": "code",
   "execution_count": null,
   "id": "4e711fff",
   "metadata": {},
   "outputs": [],
   "source": [
    "n,d=input().split()\n",
    "d=int(d)\n",
    "Rfirst=n[0:len(n)-d]\n",
    "Rsecond=n[len(n)-d:]\n",
    "print(Rfirst+Rsecond)"
   ]
  },
  {
   "cell_type": "code",
   "execution_count": null,
   "id": "ada35b0e",
   "metadata": {},
   "outputs": [],
   "source": [
    "def rotate(strg, n):\n",
    "    return strg[n:] + strg[:n]\n",
    "\n",
    "rotate('HELLO', -1)  # 'OHELL'"
   ]
  },
  {
   "cell_type": "code",
   "execution_count": null,
   "id": "c982b5bb",
   "metadata": {},
   "outputs": [],
   "source": [
    "def rotate(str,n):\n",
    "    return str[n:]+str[:n]\n",
    "str=input()\n",
    "n=int(input())\n",
    "rotate(str,n)"
   ]
  },
  {
   "cell_type": "code",
   "execution_count": null,
   "id": "8ab4ca00",
   "metadata": {},
   "outputs": [],
   "source": [
    "from collections import deque\n",
    "\n",
    "items = deque('HELLO')\n",
    "items.rotate(34)\n",
    "\n",
    "print(''.join(items))"
   ]
  },
  {
   "cell_type": "code",
   "execution_count": null,
   "id": "180f5d39",
   "metadata": {},
   "outputs": [],
   "source": [
    "from collections import deque\n",
    "str=input()\n",
    "items=deque(str)\n",
    "items.rotate(34)\n",
    "\n",
    "\"\".join(items)"
   ]
  },
  {
   "cell_type": "code",
   "execution_count": null,
   "id": "58436eba",
   "metadata": {},
   "outputs": [],
   "source": [
    "n=int(input())\n",
    "v=str(n)\n",
    "if len(v) == 2:\n",
    "    print('yes')"
   ]
  },
  {
   "cell_type": "code",
   "execution_count": null,
   "id": "859b06a2",
   "metadata": {},
   "outputs": [],
   "source": [
    "n=254\n",
    "m=47.33\n",
    "print(round(n/m,2))"
   ]
  },
  {
   "cell_type": "code",
   "execution_count": null,
   "id": "af867e1d",
   "metadata": {},
   "outputs": [],
   "source": [
    "n=int(input())\n",
    "f=input()\n",
    "f=float(f)\n",
    "print(n/f)"
   ]
  },
  {
   "cell_type": "code",
   "execution_count": null,
   "id": "8955767a",
   "metadata": {},
   "outputs": [],
   "source": [
    "n,m=map(float,input().split())\n",
    "if m > 20:\n",
    "    m=m/6\n",
    "    print(n/m)\n",
    "else:\n",
    "    print(n/m)"
   ]
  },
  {
   "cell_type": "code",
   "execution_count": null,
   "id": "85639da4",
   "metadata": {},
   "outputs": [],
   "source": [
    "import numpy as np\n",
    "from matplotlib import pyplot as plt\n",
    "a=np.array([20,87,4,40,53,74,56,51,11,20,40,15,79,25,27])\n",
    "plt.hist(a,bins=[0,20,30,40,50,60,80,100],color='pink')\n",
    "plt.title('histogram')\n",
    "plt.show()"
   ]
  },
  {
   "cell_type": "code",
   "execution_count": null,
   "id": "bf1adbd7",
   "metadata": {},
   "outputs": [],
   "source": [
    "import numpy as np\n",
    "a=np.zeros(10)\n",
    "a[4]=1\n",
    "print(a)"
   ]
  },
  {
   "cell_type": "code",
   "execution_count": null,
   "id": "a76cb4d1",
   "metadata": {},
   "outputs": [],
   "source": [
    "import numpy as np\n",
    "a=np.size\n",
    "print(a)"
   ]
  },
  {
   "cell_type": "code",
   "execution_count": null,
   "id": "99cb9e8c",
   "metadata": {},
   "outputs": [],
   "source": [
    "import numpy as np\n",
    "a=np.arange(9)\n",
    "print(a)"
   ]
  },
  {
   "cell_type": "code",
   "execution_count": null,
   "id": "105798d1",
   "metadata": {},
   "outputs": [],
   "source": [
    "print(a.size)"
   ]
  },
  {
   "cell_type": "code",
   "execution_count": null,
   "id": "5ea24d54",
   "metadata": {},
   "outputs": [],
   "source": [
    "print(a.itemsize)"
   ]
  },
  {
   "cell_type": "code",
   "execution_count": null,
   "id": "38cb0a50",
   "metadata": {},
   "outputs": [],
   "source": [
    "print(np.info(a))"
   ]
  },
  {
   "cell_type": "code",
   "execution_count": null,
   "id": "e6d98903",
   "metadata": {},
   "outputs": [],
   "source": [
    "import numpy as np\n",
    "a=np.arange(10,49)\n",
    "print(a[::-1])"
   ]
  },
  {
   "cell_type": "code",
   "execution_count": null,
   "id": "faa29274",
   "metadata": {},
   "outputs": [],
   "source": [
    "import numpy as np"
   ]
  },
  {
   "cell_type": "code",
   "execution_count": null,
   "id": "9edacca9",
   "metadata": {},
   "outputs": [],
   "source": [
    "a=np.arange(9)\n",
    "b=a.reshape(3,3)\n",
    "print(b)"
   ]
  },
  {
   "cell_type": "code",
   "execution_count": null,
   "id": "ba03a5bb",
   "metadata": {},
   "outputs": [],
   "source": [
    "print(np.nonzero(a))"
   ]
  },
  {
   "cell_type": "code",
   "execution_count": null,
   "id": "6053ea61",
   "metadata": {},
   "outputs": [],
   "source": [
    "import numpy as np\n",
    "a=[1,2,0,0,4,0]\n",
    "\n",
    "print(np.nonzero(a))"
   ]
  },
  {
   "cell_type": "code",
   "execution_count": null,
   "id": "0463331d",
   "metadata": {},
   "outputs": [],
   "source": [
    "print(np.eye(3,3))"
   ]
  },
  {
   "cell_type": "code",
   "execution_count": null,
   "id": "e91f9253",
   "metadata": {},
   "outputs": [],
   "source": [
    "print(np.random.random(3))"
   ]
  },
  {
   "cell_type": "code",
   "execution_count": null,
   "id": "a0f303e4",
   "metadata": {},
   "outputs": [],
   "source": [
    "import numpy as np\n",
    "a=[3][3][3]\n",
    "print(a)"
   ]
  },
  {
   "cell_type": "code",
   "execution_count": null,
   "id": "1cf2ea65",
   "metadata": {},
   "outputs": [],
   "source": [
    "print(np.random(3).random(3))"
   ]
  },
  {
   "cell_type": "code",
   "execution_count": null,
   "id": "947571dd",
   "metadata": {},
   "outputs": [],
   "source": [
    "arr[3][2][2]={0,1,2,3,4,5,6,7,8,9,3,2}\n"
   ]
  },
  {
   "cell_type": "code",
   "execution_count": null,
   "id": "ac7c3edf",
   "metadata": {},
   "outputs": [],
   "source": [
    "from numpy import random\n",
    "\n",
    "x = random.randint(100)\n",
    "\n",
    "print(x)"
   ]
  },
  {
   "cell_type": "code",
   "execution_count": null,
   "id": "75151d9f",
   "metadata": {},
   "outputs": [],
   "source": [
    "from numpy import random\n",
    "\n",
    "x = random.randint(100, size=(3, 5))\n",
    "\n",
    "print(x)"
   ]
  },
  {
   "cell_type": "code",
   "execution_count": null,
   "id": "d2e677cf",
   "metadata": {},
   "outputs": [],
   "source": [
    "import numpy as np\n",
    "a=np.arange(0,10)\n",
    "print(a)"
   ]
  },
  {
   "cell_type": "code",
   "execution_count": null,
   "id": "d41ec05a",
   "metadata": {},
   "outputs": [],
   "source": [
    "import numpy as np\n",
    "print(np.random(3,3,3))"
   ]
  },
  {
   "cell_type": "code",
   "execution_count": null,
   "id": "36283b90",
   "metadata": {},
   "outputs": [],
   "source": [
    "print(np.random.rand(3,3,3))"
   ]
  },
  {
   "cell_type": "code",
   "execution_count": null,
   "id": "6453f656",
   "metadata": {},
   "outputs": [],
   "source": [
    "a = np.random.rand(10,10)\n",
    "print(a)"
   ]
  },
  {
   "cell_type": "code",
   "execution_count": null,
   "id": "c2f32654",
   "metadata": {},
   "outputs": [],
   "source": [
    "print(a.max())"
   ]
  },
  {
   "cell_type": "code",
   "execution_count": null,
   "id": "65284e57",
   "metadata": {},
   "outputs": [],
   "source": [
    "print(a.min())"
   ]
  },
  {
   "cell_type": "code",
   "execution_count": null,
   "id": "da9abbb0",
   "metadata": {},
   "outputs": [],
   "source": [
    "a=np.random.rand(30)\n",
    "print(a.mean())"
   ]
  },
  {
   "cell_type": "code",
   "execution_count": null,
   "id": "136dbcd9",
   "metadata": {},
   "outputs": [],
   "source": [
    "a=np.arange(9)\n",
    "print(a)"
   ]
  },
  {
   "cell_type": "code",
   "execution_count": null,
   "id": "6e2068a6",
   "metadata": {},
   "outputs": [],
   "source": [
    "a[1:-1]=1\n",
    "print(a)"
   ]
  },
  {
   "cell_type": "code",
   "execution_count": null,
   "id": "fa959bc4",
   "metadata": {},
   "outputs": [],
   "source": [
    "a=np.ones((5,5))\n",
    "print(np.pad)"
   ]
  },
  {
   "cell_type": "code",
   "execution_count": null,
   "id": "1bc4d10d",
   "metadata": {},
   "outputs": [],
   "source": [
    "import numpy as np\n",
    "a=np.random.rand(4,4)\n",
    "a=np.pad(a,pad_width=1,constant_values=0)\n",
    "print(a)"
   ]
  },
  {
   "cell_type": "code",
   "execution_count": null,
   "id": "8a1c2dd5",
   "metadata": {},
   "outputs": [],
   "source": [
    "a=np.random.rand(5,5)\n",
    "print(np.diag())"
   ]
  },
  {
   "cell_type": "code",
   "execution_count": null,
   "id": "4553cc14",
   "metadata": {},
   "outputs": [],
   "source": [
    "a=np.random.randint(4,10)\n",
    "print(a)"
   ]
  },
  {
   "cell_type": "code",
   "execution_count": null,
   "id": "68c76b5c",
   "metadata": {},
   "outputs": [],
   "source": [
    "print(0*np.nan)\n",
    "print(np.nan==np.nan)\n",
    "print(np.inf > np.nan)\n",
    "print(np.nan-np.nan)\n",
    "print(0.3==3*0.1)"
   ]
  },
  {
   "cell_type": "code",
   "execution_count": null,
   "id": "2a199679",
   "metadata": {},
   "outputs": [],
   "source": [
    "import numpy as np\n",
    "x = np.diag([1, 2, 3, 4, 5])\n",
    "print(x)"
   ]
  },
  {
   "cell_type": "code",
   "execution_count": null,
   "id": "b6dd9c65",
   "metadata": {},
   "outputs": [],
   "source": [
    "import numpy as np\n",
    "x = np.ones((3,3))\n",
    "print(\"Checkerboard pattern:\")\n",
    "x = np.zeros((8,8),dtype=int)\n",
    "x[1::2,::2] = 1\n",
    "x[::2,1::2] = 1\n",
    "print(x)"
   ]
  },
  {
   "cell_type": "code",
   "execution_count": null,
   "id": "1b398d14",
   "metadata": {},
   "outputs": [],
   "source": [
    "Z = np.zeros((5,5))\n",
    "print(\"%d bytes\" % (Z.size * Z.itemsize))"
   ]
  },
  {
   "cell_type": "code",
   "execution_count": null,
   "id": "6ab3112b",
   "metadata": {},
   "outputs": [],
   "source": [
    "Z = np.diag(1+np.arange(4),k=-1)\n",
    "print(Z)"
   ]
  },
  {
   "cell_type": "code",
   "execution_count": null,
   "id": "0a1029fa",
   "metadata": {},
   "outputs": [],
   "source": [
    "import numpy as np\n",
    "a=np.arange(3,5)\n",
    "b=np.arange(2,3)\n",
    "print(a)\n",
    "print(b)"
   ]
  },
  {
   "cell_type": "code",
   "execution_count": null,
   "id": "f243a1f8",
   "metadata": {},
   "outputs": [],
   "source": [
    "import numpy as np\n",
    "M1 = np.array([[5, -10, 15], [3, -6, 9], [-4, 8, 12]])\n",
    "print(M1)"
   ]
  },
  {
   "cell_type": "code",
   "execution_count": null,
   "id": "4d5ba5f7",
   "metadata": {},
   "outputs": [],
   "source": [
    "import numpy as np\n",
    "M1=np.array([[5,-10,15],[3,-6,9],[-4,8,12],[2,-4,6],[1,-3,7]])\n",
    "M2=np.array([[1,-3],[2,-4],[3,-5]])\n",
    "print(M1)\n",
    "print(M2)"
   ]
  },
  {
   "cell_type": "code",
   "execution_count": null,
   "id": "75caa3f8",
   "metadata": {},
   "outputs": [],
   "source": [
    "import numpy as np\n",
    "\n",
    "M1 = np.array([[3, 6, 9], [5, -10, 15], [-7, 14, 21],[2,-4,6],[1,-3,7]])\n",
    "M2 = np.array([[1,-3],[2,-4],[3,-5]])\n",
    "M3 = M1.dot(M2)  \n",
    "print(M3)"
   ]
  },
  {
   "cell_type": "code",
   "execution_count": null,
   "id": "085c884f",
   "metadata": {},
   "outputs": [],
   "source": [
    "import numpy as np\n",
    "print(np.unravel_index(99,(6,7,8)))"
   ]
  },
  {
   "cell_type": "code",
   "execution_count": null,
   "id": "8c180b78",
   "metadata": {},
   "outputs": [],
   "source": [
    "Z = np.tile( np.array([[0,1],[1,0]]), (5,5))\n",
    "print(Z)"
   ]
  },
  {
   "cell_type": "code",
   "execution_count": null,
   "id": "2fed932a",
   "metadata": {},
   "outputs": [],
   "source": [
    "np.array([[0,1],[1,0]])"
   ]
  },
  {
   "cell_type": "code",
   "execution_count": null,
   "id": "b764227f",
   "metadata": {},
   "outputs": [],
   "source": [
    "z=np.tile(np.array([0,1]),4)\n",
    "z1=np.tile(np.array([1,0]),4)\n",
    "print(z)\n",
    "print(z1)"
   ]
  },
  {
   "cell_type": "code",
   "execution_count": null,
   "id": "7c8406eb",
   "metadata": {},
   "outputs": [],
   "source": [
    "color = np.dtype([(\"r\", np.ubyte),\n",
    "                  (\"g\", np.ubyte),\n",
    "                  (\"b\", np.ubyte),\n",
    "                  (\"a\", np.ubyte)])"
   ]
  },
  {
   "cell_type": "code",
   "execution_count": null,
   "id": "70dc19bd",
   "metadata": {},
   "outputs": [],
   "source": [
    "print(color)"
   ]
  },
  {
   "cell_type": "code",
   "execution_count": null,
   "id": "87f1df36",
   "metadata": {},
   "outputs": [],
   "source": [
    "a=np.arange(9)\n",
    "a[(3<a)&(a<8)] *= -1\n",
    "print(a)"
   ]
  },
  {
   "cell_type": "code",
   "execution_count": null,
   "id": "f1ed2196",
   "metadata": {},
   "outputs": [],
   "source": [
    "Z = np.arange(11)\n",
    "Z[(3 < Z) & (Z < 8)] *= -1\n",
    "print(Z)"
   ]
  },
  {
   "cell_type": "code",
   "execution_count": null,
   "id": "23e14260",
   "metadata": {},
   "outputs": [],
   "source": [
    "import numpy as np\n",
    "\n",
    "arr = np.arange(11)\n",
    "\n",
    "arr[3:9] = np.multiply(arr[3:9],-1)\n",
    "\n",
    "print(arr)"
   ]
  },
  {
   "cell_type": "code",
   "execution_count": null,
   "id": "2c1f02e1",
   "metadata": {},
   "outputs": [],
   "source": [
    "print(sum(range(5),-1))\n",
    "from numpy import *\n",
    "print(sum(range(5),-1))"
   ]
  },
  {
   "cell_type": "code",
   "execution_count": null,
   "id": "8efb45fb",
   "metadata": {},
   "outputs": [],
   "source": [
    "print(sum(range(5),-1))"
   ]
  },
  {
   "cell_type": "code",
   "execution_count": null,
   "id": "c33e9d10",
   "metadata": {},
   "outputs": [],
   "source": [
    "print(sum(range(5)))"
   ]
  },
  {
   "cell_type": "code",
   "execution_count": null,
   "id": "11dea07b",
   "metadata": {},
   "outputs": [],
   "source": [
    "print(sum(range(5),-1))\n",
    "from numpy import *\n",
    "print(sum(range(5),-1))"
   ]
  },
  {
   "cell_type": "code",
   "execution_count": null,
   "id": "ea850ccc",
   "metadata": {},
   "outputs": [],
   "source": [
    "print(sum(range(5),-1))"
   ]
  },
  {
   "cell_type": "code",
   "execution_count": null,
   "id": "1c1fc992",
   "metadata": {},
   "outputs": [],
   "source": [
    "print(np.array(0) / np.array(0))\n",
    "print(np.array(0) // np.array(0))\n",
    "print(np.array([np.nan]).astype(int).astype(float))"
   ]
  },
  {
   "cell_type": "code",
   "execution_count": null,
   "id": "ad0a94da",
   "metadata": {},
   "outputs": [],
   "source": [
    "np.array(0)"
   ]
  },
  {
   "cell_type": "code",
   "execution_count": null,
   "id": "f6bf5033",
   "metadata": {},
   "outputs": [],
   "source": [
    "arr = np.array([[-1, 2, 0, 4],\n",
    "                [4, -0.5, 6, 0],\n",
    "                [2.6, 0, 7, 8],\n",
    "                [3, -7, 4, 2.0]])\n",
    "temp=arr[[0,1,2,3],[3,2,1,0]]\n",
    "print(temp)"
   ]
  },
  {
   "cell_type": "code",
   "execution_count": null,
   "id": "30d986d7",
   "metadata": {},
   "outputs": [],
   "source": [
    "arr = np.array([[-1, 2, 0, 4],\n",
    "                [4, -0.5, 6, 0],\n",
    "                [2.6, 0, 7, 8],\n",
    "                [3, -7, 4, 2.0]])\n",
    "print(arr)"
   ]
  },
  {
   "cell_type": "code",
   "execution_count": null,
   "id": "532c962c",
   "metadata": {},
   "outputs": [],
   "source": [
    "cond = arr > 0 # cond is a boolean array\n",
    "temp = arr[cond]\n",
    "print (\"\\nElements greater than 0:\\n\", temp)"
   ]
  },
  {
   "cell_type": "code",
   "execution_count": null,
   "id": "38b230ef",
   "metadata": {},
   "outputs": [],
   "source": [
    "import numpy as np\n",
    "arr=np.array([1,2,3,4,5])\n",
    "print(type(arr))"
   ]
  },
  {
   "cell_type": "code",
   "execution_count": null,
   "id": "2026366c",
   "metadata": {},
   "outputs": [],
   "source": [
    "import numpy as np\n",
    "\n",
    "arr = np.array([1, 2, 3, 4, 5])\n",
    "\n",
    "print(arr)\n",
    "\n",
    "print(type(arr))"
   ]
  },
  {
   "cell_type": "code",
   "execution_count": null,
   "id": "f5dd4797",
   "metadata": {},
   "outputs": [],
   "source": [
    "arr = np.array([1, 2, 3, 4, 5])\n",
    "print(arr)"
   ]
  },
  {
   "cell_type": "code",
   "execution_count": null,
   "id": "4e904549",
   "metadata": {},
   "outputs": [],
   "source": [
    "import numpy as np\n",
    "\n",
    "arr = np.array((1, 2, 3, 4, 5))\n",
    "\n",
    "print(arr)"
   ]
  },
  {
   "cell_type": "code",
   "execution_count": null,
   "id": "03303e5e",
   "metadata": {},
   "outputs": [],
   "source": [
    "import numpy as np\n",
    "arr=np.array([1,2,3,4,5],ndmin=5)\n",
    "print(arr)\n"
   ]
  },
  {
   "cell_type": "code",
   "execution_count": null,
   "id": "5f8f5657",
   "metadata": {},
   "outputs": [],
   "source": [
    "arr = np.array([1, 2, 3, 4])\n",
    "\n",
    "print(arr.ndim)"
   ]
  },
  {
   "cell_type": "code",
   "execution_count": null,
   "id": "3780a7ce",
   "metadata": {},
   "outputs": [],
   "source": [
    "arr = np.array([[10, 20, 30, 40], [50, 60, 70, 80]])\n",
    "print(arr[1,0])"
   ]
  },
  {
   "cell_type": "code",
   "execution_count": null,
   "id": "bcf18920",
   "metadata": {},
   "outputs": [],
   "source": [
    "arr = np.array([10, 20, 30, 40, 50])\n",
    "print(arr[-1])"
   ]
  },
  {
   "cell_type": "code",
   "execution_count": null,
   "id": "71009078",
   "metadata": {},
   "outputs": [],
   "source": [
    "arr = np.array([10, 15, 20, 25, 30, 35, 40])\n",
    "print(arr[1:4])"
   ]
  },
  {
   "cell_type": "code",
   "execution_count": null,
   "id": "62fc9fab",
   "metadata": {},
   "outputs": [],
   "source": [
    "arr = np.array([10, 15, 20, 25, 30, 35, 40])\n",
    "print(arr[::3])"
   ]
  },
  {
   "cell_type": "code",
   "execution_count": null,
   "id": "badeaa3e",
   "metadata": {},
   "outputs": [],
   "source": [
    "arr = np.array([10, 15, 20, 25, 30, 35, 40])\n",
    "arr1 = np.array([10,90,50,100,])\n",
    "print(np.intersect1d(arr,arr1))"
   ]
  },
  {
   "cell_type": "code",
   "execution_count": null,
   "id": "7bccfcdc",
   "metadata": {},
   "outputs": [],
   "source": [
    "np.sqrt(-1) == np.emath.sqrt(-1)"
   ]
  },
  {
   "cell_type": "code",
   "execution_count": null,
   "id": "7f46aa0c",
   "metadata": {},
   "outputs": [],
   "source": [
    "arr=np.array([1,2,3,4,5])\n",
    "print(np.timedelta64(arr))"
   ]
  },
  {
   "cell_type": "code",
   "execution_count": null,
   "id": "cae83501",
   "metadata": {},
   "outputs": [],
   "source": [
    "yesterday=np.datetime64('today')-np.timedelta64(1)\n",
    "today=np.datetime64('today')\n",
    "tomorrow=np.datetime64('today')+np.timedelta64(1)"
   ]
  },
  {
   "cell_type": "code",
   "execution_count": null,
   "id": "df956334",
   "metadata": {},
   "outputs": [],
   "source": [
    "print(yesterday)\n",
    "print(today)\n",
    "print(tomorrow)"
   ]
  },
  {
   "cell_type": "code",
   "execution_count": null,
   "id": "cf596546",
   "metadata": {},
   "outputs": [],
   "source": [
    "a=np.arange('2016-07','2016-08',dtype='datetime64[D]')"
   ]
  },
  {
   "cell_type": "code",
   "execution_count": null,
   "id": "3991cd7b",
   "metadata": {},
   "outputs": [],
   "source": [
    "print(a)"
   ]
  },
  {
   "cell_type": "code",
   "execution_count": null,
   "id": "be119f98",
   "metadata": {},
   "outputs": [],
   "source": [
    "A=np.ones(3)*1\n",
    "B=np.ones(3)*2\n",
    "np.add(A,B,out=B)\n",
    "np.divide(A,2,out=A)\n",
    "np.negative(A,out=A)\n",
    "np.multiply(A,B,out=A)"
   ]
  },
  {
   "cell_type": "code",
   "execution_count": null,
   "id": "754649c2",
   "metadata": {},
   "outputs": [],
   "source": [
    "A=np.ones(3)*1\n",
    "B=np.ones(3)*2\n",
    "print(A)\n",
    "print(B)"
   ]
  },
  {
   "cell_type": "code",
   "execution_count": null,
   "id": "097eb6dd",
   "metadata": {},
   "outputs": [],
   "source": [
    "np.random.rand((5,5),"
   ]
  },
  {
   "cell_type": "code",
   "execution_count": null,
   "id": "8ff18f20",
   "metadata": {},
   "outputs": [],
   "source": [
    "A=np.tile(np.arange(0,5),(5,1))\n",
    "print(A)"
   ]
  },
  {
   "cell_type": "code",
   "execution_count": null,
   "id": "b7bfc4c3",
   "metadata": {},
   "outputs": [],
   "source": [
    "import numpy as np\n",
    "A=np.random.rand(10)"
   ]
  },
  {
   "cell_type": "code",
   "execution_count": null,
   "id": "19f4d1d1",
   "metadata": {},
   "outputs": [],
   "source": [
    "print(sort(A))"
   ]
  },
  {
   "cell_type": "code",
   "execution_count": null,
   "id": "665c4e16",
   "metadata": {},
   "outputs": [],
   "source": [
    "import numpy as np\n",
    "A=np.random.rand(10)\n",
    "print(np.add.reduce(A))"
   ]
  },
  {
   "cell_type": "code",
   "execution_count": null,
   "id": "f1d2a280",
   "metadata": {},
   "outputs": [],
   "source": [
    "import numpy as np\n",
    "A=np.ones(10)\n",
    "B=np.ones(10)\n",
    "np.array_equal(A,B)"
   ]
  },
  {
   "cell_type": "code",
   "execution_count": null,
   "id": "e255d152",
   "metadata": {},
   "outputs": [],
   "source": [
    "import numpy as np\n",
    "arr=np.array((1,2,3,4,5))\n",
    "print(arr)"
   ]
  },
  {
   "cell_type": "code",
   "execution_count": null,
   "id": "e51090a7",
   "metadata": {},
   "outputs": [],
   "source": [
    "import numpy as np\n",
    "arr=np.ones(5)\n"
   ]
  },
  {
   "cell_type": "code",
   "execution_count": null,
   "id": "e84a32d5",
   "metadata": {},
   "outputs": [],
   "source": [
    "arr=np.arange(9)\n",
    "arr[arr.argmax()]=0\n",
    "print(arr)"
   ]
  },
  {
   "cell_type": "code",
   "execution_count": null,
   "id": "b3333abf",
   "metadata": {},
   "outputs": [],
   "source": [
    "arr=np.array((2,4,6,8,10))\n",
    "A=np.gcd.reduce(arr)\n",
    "print(A)"
   ]
  },
  {
   "cell_type": "code",
   "execution_count": null,
   "id": "53673bb6",
   "metadata": {},
   "outputs": [],
   "source": [
    "import numpy as np\n",
    "\n",
    "print(type(np.add))"
   ]
  },
  {
   "cell_type": "code",
   "execution_count": null,
   "id": "96b094a4",
   "metadata": {},
   "outputs": [],
   "source": [
    "import numpy as np\n",
    "if type(np.add) == np.ufunc:\n",
    "    print(\"add in ufunc\")\n",
    "else:\n",
    "    print(\"add is not ufunc\")"
   ]
  },
  {
   "cell_type": "code",
   "execution_count": null,
   "id": "e0fd570b",
   "metadata": {},
   "outputs": [],
   "source": [
    "from math import log\n",
    "import numpy as np\n",
    "nlog=np.frompyfunc(log,2,1)\n",
    "print(nplog(100,15))"
   ]
  },
  {
   "cell_type": "code",
   "execution_count": null,
   "id": "14377599",
   "metadata": {},
   "outputs": [],
   "source": [
    "from math import log\n",
    "import numpy as np\n",
    "\n",
    "nplog = np.frompyfunc(log, 2, 1)\n",
    "\n",
    "print(nplog(100, 15))\n"
   ]
  },
  {
   "cell_type": "code",
   "execution_count": null,
   "id": "fa095b94",
   "metadata": {},
   "outputs": [],
   "source": [
    "import numpy as np\n",
    "arr1=np.array([1,2,3])\n",
    "arr2=np.array([1,2,3])\n",
    "newarr=np.sum([arr1,arr2],axis=1)\n",
    "print(newarr)"
   ]
  },
  {
   "cell_type": "code",
   "execution_count": null,
   "id": "dd0669ea",
   "metadata": {},
   "outputs": [],
   "source": [
    "import numpy as np\n",
    "arr=np.array([1,2,3])\n",
    "newarr=np.cumsum(arr)\n",
    "print(newarr)"
   ]
  },
  {
   "cell_type": "code",
   "execution_count": null,
   "id": "546a1610",
   "metadata": {},
   "outputs": [],
   "source": [
    "import numpy as np\n",
    "arr=np.array([10,20,30,40])\n",
    "newarr=np.diff(arr,n=2)\n",
    "print(newarr)"
   ]
  },
  {
   "cell_type": "code",
   "execution_count": null,
   "id": "2e36d154",
   "metadata": {},
   "outputs": [],
   "source": [
    "import numpy as np\n",
    "\n",
    "arr = np.arange(1, 11)\n",
    "\n",
    "x = np.lcm.reduce(arr)\n",
    "\n",
    "print(x)"
   ]
  },
  {
   "cell_type": "code",
   "execution_count": null,
   "id": "21c08125",
   "metadata": {},
   "outputs": [],
   "source": [
    "arr = np.arange(1, 11)\n",
    "print(arr)"
   ]
  },
  {
   "cell_type": "code",
   "execution_count": null,
   "id": "1b511430",
   "metadata": {},
   "outputs": [],
   "source": [
    "import numpy as np\n",
    "a=np.sin(np.pi/2)\n",
    "print(a)"
   ]
  },
  {
   "cell_type": "code",
   "execution_count": null,
   "id": "4ea34300",
   "metadata": {},
   "outputs": [],
   "source": [
    "import numpy as np\n",
    "a=np.array([np.pi/2,np.pi/3,np.pi/4,np.pi/5])\n",
    "x=np.sin(a)\n",
    "print(x)"
   ]
  },
  {
   "cell_type": "code",
   "execution_count": null,
   "id": "41739782",
   "metadata": {},
   "outputs": [],
   "source": [
    "import numpy as np\n",
    "arr=np.array([np.pi/2,np.pi/3,np.pi,1.5*np.pi,2*np.pi])\n",
    "x=np.rad2deg(arr)\n",
    "print(x)"
   ]
  },
  {
   "cell_type": "code",
   "execution_count": null,
   "id": "7726fb41",
   "metadata": {},
   "outputs": [],
   "source": [
    "import numpy as np\n",
    "arr=np.array([1,1,1,2,3,4,5,5,6,7])\n",
    "x=np.unique(arr)\n",
    "print(x)"
   ]
  },
  {
   "cell_type": "code",
   "execution_count": null,
   "id": "3972e15a",
   "metadata": {},
   "outputs": [],
   "source": [
    "import numpy as np\n",
    "arr1=([1,2,3,4,5])\n",
    "arr2=([3,4,5,6,7])\n",
    "newarr=np.union1d(arr1,arr2)\n",
    "print(newarr)"
   ]
  },
  {
   "cell_type": "code",
   "execution_count": null,
   "id": "d4c6e982",
   "metadata": {},
   "outputs": [],
   "source": [
    "import numpy as np\n",
    "arr1=np.array([1,2,3,4])\n",
    "arr2=np.array([8,7,5,6])\n",
    "newarr=np.intersect1d(arr1,arr2)\n",
    "print(newarr)"
   ]
  },
  {
   "cell_type": "code",
   "execution_count": null,
   "id": "1758d466",
   "metadata": {},
   "outputs": [],
   "source": [
    "import numpy as np\n",
    "\n",
    "arr = np.array([[[1, 2, 3], [4, 5, 6]], [[7, 8, 9], [10, 11, 12]]])\n",
    "print(arr)"
   ]
  },
  {
   "cell_type": "code",
   "execution_count": null,
   "id": "74c0b326",
   "metadata": {},
   "outputs": [],
   "source": [
    "import numpy as np\n",
    "arr=np.array([[[1,2,3],[4,5,6]],[[7,8,9],[10,11,12]]])\n",
    "print(arr[1,1,2])"
   ]
  },
  {
   "cell_type": "code",
   "execution_count": null,
   "id": "d2320489",
   "metadata": {},
   "outputs": [],
   "source": [
    "import numpy as np\n",
    "arr=np.array([[1,2,3,4,5],[6,7,8,9,10]])\n",
    "print(arr[0,-5])"
   ]
  },
  {
   "cell_type": "code",
   "execution_count": null,
   "id": "65b2e2cb",
   "metadata": {},
   "outputs": [],
   "source": [
    "import numpy as np\n",
    "arr=np.array([1,2,3,4,5,6,7])\n",
    "print(arr[-3:-1])"
   ]
  },
  {
   "cell_type": "code",
   "execution_count": null,
   "id": "7170dd7f",
   "metadata": {},
   "outputs": [],
   "source": [
    "import numpy as np\n",
    "arr=np.array([1,2,3,4,5,6,7])\n",
    "print(arr[::3])"
   ]
  },
  {
   "cell_type": "code",
   "execution_count": null,
   "id": "240b1ade",
   "metadata": {},
   "outputs": [],
   "source": [
    "import numpy as np\n",
    "arr=np.array([[1,2,3,4,5,6],[7,8,9,10,11,12]])\n",
    "print(arr[0,1:5])"
   ]
  },
  {
   "cell_type": "code",
   "execution_count": null,
   "id": "a99174eb",
   "metadata": {},
   "outputs": [],
   "source": [
    "import numpy as np\n",
    "arr=np.array([[1,2,3,4,5],[6,7,8,9,10]])\n",
    "print(arr[0:2,1:4])"
   ]
  },
  {
   "cell_type": "code",
   "execution_count": null,
   "id": "05da4756",
   "metadata": {},
   "outputs": [],
   "source": [
    "import numpy as np \n",
    "arr=np.array([1,2,3,4])\n",
    "print(arr.dtype)"
   ]
  },
  {
   "cell_type": "code",
   "execution_count": null,
   "id": "0d8186e5",
   "metadata": {},
   "outputs": [],
   "source": [
    "import numpy as np\n",
    "\n",
    "arr = np.array([1, 2, 3, 4])\n",
    "\n",
    "print(arr.dtype)\n"
   ]
  },
  {
   "cell_type": "code",
   "execution_count": null,
   "id": "ec0450c7",
   "metadata": {},
   "outputs": [],
   "source": [
    "import numpy as np\n",
    "arr=np.array(['apple','banana','grapes','orange','mango'])\n",
    "print(arr.dtype)"
   ]
  },
  {
   "cell_type": "code",
   "execution_count": null,
   "id": "6639afba",
   "metadata": {},
   "outputs": [],
   "source": [
    "list=['apple','oranges','banana']\n",
    "print(type(list))"
   ]
  },
  {
   "cell_type": "code",
   "execution_count": null,
   "id": "8836328f",
   "metadata": {},
   "outputs": [],
   "source": [
    "n=4\n",
    "print(type(n))"
   ]
  },
  {
   "cell_type": "code",
   "execution_count": null,
   "id": "617b2de9",
   "metadata": {},
   "outputs": [],
   "source": [
    "import numpy as np\n",
    "arr=np.array([1,2,3,4],dtype='i4')\n",
    "print(arr)\n",
    "print(arr.dtype)"
   ]
  },
  {
   "cell_type": "code",
   "execution_count": null,
   "id": "7dcc2a57",
   "metadata": {},
   "outputs": [],
   "source": [
    "import numpy as np\n",
    "arr=np.array([1.1,2.1,3.1])\n",
    "newarr=arr.astype(int)\n",
    "print(newarr)\n",
    "print(newarr.dtype)"
   ]
  },
  {
   "cell_type": "code",
   "execution_count": null,
   "id": "f7f94e93",
   "metadata": {},
   "outputs": [],
   "source": [
    "import numpy as np\n",
    "arr=np.array([1,5,3])\n",
    "new_arr=arr.astype(bool)\n",
    "print(new_arr)\n",
    "print(new_arr.dtype)"
   ]
  },
  {
   "cell_type": "code",
   "execution_count": null,
   "id": "4d7f5e62",
   "metadata": {},
   "outputs": [],
   "source": [
    "import numpy as np\n",
    "arr=np.array([1,2,3,4],ndmin=5)\n",
    "print(arr)\n",
    "print(arr.shape)"
   ]
  },
  {
   "cell_type": "code",
   "execution_count": null,
   "id": "00e283f0",
   "metadata": {},
   "outputs": [],
   "source": [
    "arr = np.array([1, 2, 3, 4, 5, 6, 7, 8, 9, 10, 11, 12])\n",
    "\n",
    "newarr = arr.ndmin=2(4, 3)"
   ]
  },
  {
   "cell_type": "code",
   "execution_count": null,
   "id": "479e4f0f",
   "metadata": {},
   "outputs": [],
   "source": [
    "import numpy as np\n",
    "arr=np.array([1,2,3,4,5,6,7,8,9,10,11,12])\n",
    "newarr=arr.reshape(4,3)\n",
    "print(newarr)"
   ]
  },
  {
   "cell_type": "code",
   "execution_count": null,
   "id": "c60d8ec4",
   "metadata": {},
   "outputs": [],
   "source": [
    "import numpy as np\n",
    "arr=np.array([1,2,3,4,5,6,7,8,9,10,11,12])\n",
    "newarr=arr.reshape(-1)\n",
    "print(newarr)"
   ]
  },
  {
   "cell_type": "code",
   "execution_count": null,
   "id": "4668fbcb",
   "metadata": {},
   "outputs": [],
   "source": [
    "np.set_printoptions(threshold=float(\"inf\"))\n",
    "Z = np.zeros((40,40))\n",
    "print(Z)"
   ]
  },
  {
   "cell_type": "code",
   "execution_count": null,
   "id": "ed4fcfdf",
   "metadata": {},
   "outputs": [],
   "source": [
    "import numpy as np\n",
    "arr=np.array([1.1,2.1,3.1,4.1,5.1])\n",
    "new_arr=arr.astype(int)\n",
    "print(new_arr)\n",
    "print(new_arr.dtype)"
   ]
  },
  {
   "cell_type": "code",
   "execution_count": null,
   "id": "e0cc6385",
   "metadata": {},
   "outputs": [],
   "source": [
    "import numpy as np\n",
    "arr=np.array([1,2,3])\n",
    "for x in arr:\n",
    "    print(x,end=' ')"
   ]
  },
  {
   "cell_type": "code",
   "execution_count": null,
   "id": "5c68a06b",
   "metadata": {},
   "outputs": [],
   "source": [
    "arr=np.array([[1,2,3],[4,5,6]])\n",
    "for x in arr:\n",
    "    print(x)"
   ]
  },
  {
   "cell_type": "code",
   "execution_count": null,
   "id": "182e53f5",
   "metadata": {},
   "outputs": [],
   "source": [
    "arr=np.array([[1,2,3],[4,5,6]])\n",
    "for x in arr:\n",
    "    for y in x:\n",
    "        print(y,end=' ')"
   ]
  },
  {
   "cell_type": "code",
   "execution_count": null,
   "id": "f2fa1b76",
   "metadata": {},
   "outputs": [],
   "source": [
    "arr=np.array([[[1,2,3],[4,5,6]],[[7,8,9],[10,11,12]]])\n",
    "for x in arr:\n",
    "    print(x)"
   ]
  },
  {
   "cell_type": "code",
   "execution_count": null,
   "id": "8812e4b8",
   "metadata": {},
   "outputs": [],
   "source": [
    "arr=np.array([[[1,2,3],[4,5,6]],[[7,8,9],[10,11,12]]])\n",
    "for x in arr:\n",
    "    for y in x:\n",
    "        for z in y:\n",
    "            print(z)"
   ]
  },
  {
   "cell_type": "code",
   "execution_count": null,
   "id": "a526d8f3",
   "metadata": {},
   "outputs": [],
   "source": [
    "import numpy as np\n",
    "arr=np.array([[[1,2],[3,4]],[[5,6],[7,8]]])\n",
    "for x in np.nditer(arr):\n",
    "    print(x)"
   ]
  },
  {
   "cell_type": "code",
   "execution_count": null,
   "id": "b25780ef",
   "metadata": {},
   "outputs": [],
   "source": [
    "arr=np.array([[[1,2],[3,4]],[[5,6],[7,8]]])\n",
    "for x in arr:\n",
    "    for y in x:\n",
    "        for z in y:\n",
    "            print(z)"
   ]
  },
  {
   "cell_type": "code",
   "execution_count": null,
   "id": "1515cd3f",
   "metadata": {},
   "outputs": [],
   "source": [
    "import numpy as np\n",
    "arr=np.array([1,2,3])\n",
    "for x in np.nditer(arr,flags=['buffered'],op_dtypes=['S']):\n",
    "    print(x,end=' ')"
   ]
  },
  {
   "cell_type": "code",
   "execution_count": null,
   "id": "12551731",
   "metadata": {},
   "outputs": [],
   "source": [
    "arr=np.array([[1,2,3,4],[5,6,7,8]])\n",
    "for x in np.nditer(arr[:,::2]):\n",
    "    print(x)"
   ]
  },
  {
   "cell_type": "code",
   "execution_count": null,
   "id": "cfe401d8",
   "metadata": {},
   "outputs": [],
   "source": [
    "arr=np.array([1,2,3])\n",
    "for idx,x in np.ndenumerate(arr):\n",
    "    print(idx,x)"
   ]
  },
  {
   "cell_type": "code",
   "execution_count": null,
   "id": "9ea18559",
   "metadata": {},
   "outputs": [],
   "source": [
    "arr=np.array([[1,2,3,4],[5,6,7,8]])\n",
    "for idx,x in np.ndenumerate(arr):\n",
    "    print(idx,x)"
   ]
  },
  {
   "cell_type": "code",
   "execution_count": null,
   "id": "1af8d0c8",
   "metadata": {},
   "outputs": [],
   "source": [
    "nested=['sachin','dravid',['dhavan','mayank','yuzi'],'harbhajan','virat']\n",
    "print(nested)"
   ]
  },
  {
   "cell_type": "code",
   "execution_count": null,
   "id": "458f53fb",
   "metadata": {},
   "outputs": [],
   "source": [
    "import numpy as np\n",
    "b=np.array([[3,4,5],[1,2,3]])\n",
    "print(b[0:1])"
   ]
  },
  {
   "cell_type": "code",
   "execution_count": null,
   "id": "cf9e4802",
   "metadata": {},
   "outputs": [],
   "source": [
    "import numpy as np\n",
    "a=np.array([32,30,41,70,80,60,45,76,88])\n",
    "a.mean()"
   ]
  },
  {
   "cell_type": "code",
   "execution_count": null,
   "id": "f385a359",
   "metadata": {},
   "outputs": [],
   "source": [
    "a.max()"
   ]
  },
  {
   "cell_type": "code",
   "execution_count": null,
   "id": "089e7dac",
   "metadata": {},
   "outputs": [],
   "source": [
    "a.min()"
   ]
  },
  {
   "cell_type": "markdown",
   "id": "f11ffdaa",
   "metadata": {},
   "source": []
  },
  {
   "cell_type": "code",
   "execution_count": null,
   "id": "6afd797d",
   "metadata": {},
   "outputs": [],
   "source": []
  },
  {
   "cell_type": "code",
   "execution_count": null,
   "id": "e4d55035",
   "metadata": {},
   "outputs": [],
   "source": [
    "import numpy as np\n",
    "a=np.array([32,30,41,70,80,60,45,76,88])\n",
    "a.mean()"
   ]
  },
  {
   "cell_type": "markdown",
   "id": "6d296d70",
   "metadata": {},
   "source": [
    "a.max()"
   ]
  },
  {
   "cell_type": "code",
   "execution_count": null,
   "id": "b622190d",
   "metadata": {},
   "outputs": [],
   "source": [
    "a.max()"
   ]
  },
  {
   "cell_type": "code",
   "execution_count": null,
   "id": "9813df3d",
   "metadata": {},
   "outputs": [],
   "source": [
    "a.min()"
   ]
  },
  {
   "cell_type": "code",
   "execution_count": null,
   "id": "dfe0f4ed",
   "metadata": {},
   "outputs": [],
   "source": [
    "import numpy as np\n",
    "a=np.array([32,30,41,70,80,60,45,76,88])\n",
    "for x in np.nditer(a):\n",
    "    if x > 75:\n",
    "        x=88\n",
    "        arr_1=np.array([x],)\n",
    "        print(arr_1,end=' ')\n",
    "    else:\n",
    "        x=a.mean()\n",
    "        arr_2=np.array([x],)\n",
    "        print(arr_2,end=' ')\n"
   ]
  },
  {
   "cell_type": "code",
   "execution_count": null,
   "id": "74b78a2e",
   "metadata": {},
   "outputs": [],
   "source": [
    "import numpy as np\n",
    "a=np.array([40,37,41,70,80,60,45,76,88])\n",
    "print(np.ndim(a))"
   ]
  },
  {
   "cell_type": "code",
   "execution_count": null,
   "id": "2c132e19",
   "metadata": {},
   "outputs": [],
   "source": [
    "print(a.itemsize)"
   ]
  },
  {
   "cell_type": "code",
   "execution_count": null,
   "id": "f520a19a",
   "metadata": {},
   "outputs": [],
   "source": [
    "print(a.dtype)"
   ]
  },
  {
   "cell_type": "code",
   "execution_count": null,
   "id": "8d6ac3ed",
   "metadata": {},
   "outputs": [],
   "source": [
    "print(a.shape)"
   ]
  },
  {
   "cell_type": "code",
   "execution_count": null,
   "id": "62f78870",
   "metadata": {},
   "outputs": [],
   "source": [
    "print(a.reshape(3,3))"
   ]
  },
  {
   "cell_type": "code",
   "execution_count": null,
   "id": "72823f71",
   "metadata": {},
   "outputs": [],
   "source": [
    "for x in np.nditer(a):\n",
    "    if x > 75:\n",
    "        x=88\n",
    "        print(x,end=' ')\n",
    "    else:\n",
    "        x=a.mean()\n",
    "        print(x,end=' ')"
   ]
  },
  {
   "cell_type": "code",
   "execution_count": null,
   "id": "f5e8b7d6",
   "metadata": {},
   "outputs": [],
   "source": [
    "import numpy as np\n",
    "a=np.array([40,37,41,70,75,80,60,45,76,88])\n",
    "for x in a:\n",
    "    print(x)"
   ]
  },
  {
   "cell_type": "code",
   "execution_count": null,
   "id": "f6dca8b1",
   "metadata": {},
   "outputs": [],
   "source": [
    "import numpy as np\n",
    "a=np.array([40,37,41,70,80,60,45,76,88])\n",
    "print(np.ndmin(a))"
   ]
  },
  {
   "cell_type": "code",
   "execution_count": null,
   "id": "1731cd72",
   "metadata": {},
   "outputs": [],
   "source": [
    "n,m=map(float,input().split())\n",
    "if m > 20:\n",
    "    m=m/6\n",
    "    print(n/m)\n",
    "else:\n",
    "    print(n/m)"
   ]
  },
  {
   "cell_type": "code",
   "execution_count": null,
   "id": "d65e20bf",
   "metadata": {},
   "outputs": [],
   "source": [
    "n,m=map(float,input().split())\n",
    "print(n/m)"
   ]
  },
  {
   "cell_type": "code",
   "execution_count": null,
   "id": "5f6b6e8a",
   "metadata": {},
   "outputs": [],
   "source": [
    "n,m=map(float,input().split())"
   ]
  },
  {
   "cell_type": "code",
   "execution_count": null,
   "id": "abeec4eb",
   "metadata": {},
   "outputs": [],
   "source": [
    "n,m=map(float,input().split())\n",
    "m=str(m)\n",
    "print(remove(m[-1]))"
   ]
  },
  {
   "cell_type": "code",
   "execution_count": null,
   "id": "c84fdd71",
   "metadata": {},
   "outputs": [],
   "source": [
    "n,m=map(float,input().split())\n",
    "m=int(m)\n",
    "print(m)"
   ]
  },
  {
   "cell_type": "code",
   "execution_count": null,
   "id": "f94f4ca5",
   "metadata": {},
   "outputs": [],
   "source": [
    "n,m=map(float,input().split())\n",
    "m=str(m)\n",
    "if m[-1] == '5':\n",
    "    m=float(m)\n",
    "    m=int(m)\n",
    "    m=m+(5/6)\n",
    "    print(n/m)\n",
    "elif m[-1] == '1':\n",
    "    m=float(m)\n",
    "    m=int(m)\n",
    "    m=m+(1/6)\n",
    "    print(n/m)\n",
    "elif m[-1] == '2':\n",
    "    m=float(m)\n",
    "    m=int(m)\n",
    "    m=m+(2/6)\n",
    "    print(n/m)\n",
    "elif m[-1] == '3':\n",
    "    m=float(m)\n",
    "    m=int(m)\n",
    "    m=m+(3/6)\n",
    "    print(n/m)\n",
    "elif m[-1] == '4':\n",
    "    m=float(m)\n",
    "    m=int(m)\n",
    "    m=m+(4/6)\n",
    "    print(n/m)\n",
    "else:\n",
    "    m=float(m)\n",
    "    m=int(m)\n",
    "    m=m+(6/6)\n",
    "    print(n/m)\n",
    "    "
   ]
  },
  {
   "cell_type": "code",
   "execution_count": null,
   "id": "e6b8696f",
   "metadata": {},
   "outputs": [],
   "source": [
    "n=int(input())\n",
    "arr=[int(x) for x in input().split()]\n",
    "for i in range(0,len(arr)+1):\n",
    "    sum = 0 + arr[0]+arr[1]+arr[2]\n",
    "    sum_1=0+arr[len(arr)-1]+arr[len(arr)-2]+arr[len(arr)-3]\n",
    "    if sum == sum_1:\n",
    "        print('1')\n",
    "        break\n",
    "    "
   ]
  },
  {
   "cell_type": "code",
   "execution_count": null,
   "id": "d6d7ab88",
   "metadata": {},
   "outputs": [],
   "source": [
    "d=2\n",
    "if d == 1:\n",
    "    print('yes')\n",
    "elif d == 3:\n",
    "    print('yes please')\n",
    "elif d == 5:\n",
    "    print('yes 100')\n",
    "else:\n",
    "    print('n0')"
   ]
  },
  {
   "cell_type": "code",
   "execution_count": null,
   "id": "8483e95e",
   "metadata": {},
   "outputs": [],
   "source": [
    "import numpy as np\n",
    "Z = np.random.random((10,2))\n",
    "X,Y = Z[:,0], Z[:,1]\n",
    "R = np.sqrt(X**2+Y**2)\n",
    "T = np.arctan2(Y,X)\n",
    "print(R)\n",
    "print(T)"
   ]
  },
  {
   "cell_type": "code",
   "execution_count": null,
   "id": "1d4216b1",
   "metadata": {},
   "outputs": [],
   "source": [
    "import numpy as np\n",
    "z=np.random.random((5,5))\n",
    "z=(z-np.min(z))/(np.max(z)-np.min(z))\n",
    "print(z)"
   ]
  },
  {
   "cell_type": "code",
   "execution_count": null,
   "id": "cb302186",
   "metadata": {},
   "outputs": [],
   "source": [
    "Z = np.random.random((5,5))\n",
    "Z = (Z - np.mean (Z)) / (np.std (Z))\n",
    "print(Z)"
   ]
  },
  {
   "cell_type": "code",
   "execution_count": null,
   "id": "274bd532",
   "metadata": {},
   "outputs": [],
   "source": [
    "Z = np.random.random((5,5))\n",
    "print(np.max(Z))"
   ]
  },
  {
   "cell_type": "code",
   "execution_count": null,
   "id": "6b857e86",
   "metadata": {},
   "outputs": [],
   "source": [
    "Z = np.random.uniform(-10,+10,10)\n",
    "print(np.copysign(np.ceil(np.abs(Z)), Z))\n",
    "print(np.where(Z>0, np.ceil(Z), np.floor(Z)))"
   ]
  },
  {
   "cell_type": "code",
   "execution_count": null,
   "id": "660a067e",
   "metadata": {},
   "outputs": [],
   "source": [
    "Z = np.random.uniform(-10,+10,10)\n",
    "print(Z)"
   ]
  },
  {
   "cell_type": "code",
   "execution_count": null,
   "id": "097869e9",
   "metadata": {},
   "outputs": [],
   "source": [
    "Z = np.random.uniform(0,10,10)\n",
    "\n",
    "print(Z - Z%1)\n",
    "print(np.ceil(Z))\n",
    "print(np.floor(Z))\n",
    "print(Z.astype(int))\n",
    "print(np.trunc(Z))"
   ]
  },
  {
   "cell_type": "code",
   "execution_count": null,
   "id": "e7f1d29f",
   "metadata": {},
   "outputs": [],
   "source": [
    "def generate():\n",
    "    for x in range(10):\n",
    "        yield x\n",
    "Z = np.fromiter(generate(),dtype=float)\n",
    "print(Z)"
   ]
  },
  {
   "cell_type": "code",
   "execution_count": null,
   "id": "217e82ef",
   "metadata": {},
   "outputs": [],
   "source": [
    "Z = np.linspace(0,1,11,endpoint=False)[1:]\n",
    "print(Z)"
   ]
  },
  {
   "cell_type": "code",
   "execution_count": null,
   "id": "80ba42ca",
   "metadata": {},
   "outputs": [],
   "source": [
    "Z = np.zeros(10)\n",
    "Z.flags.writeable = False\n",
    "Z[0] = 1"
   ]
  },
  {
   "cell_type": "code",
   "execution_count": null,
   "id": "6af8cdf4",
   "metadata": {},
   "outputs": [],
   "source": [
    "from numpy import random\n",
    "import matplotlib.pyplot as plt\n",
    "import seaborn as sns\n",
    "sns.displot(random.chisquare(df=1,size=1000),color='blue',bins=10)\n",
    "plt.show()"
   ]
  },
  {
   "cell_type": "code",
   "execution_count": null,
   "id": "3ce61d5a",
   "metadata": {},
   "outputs": [],
   "source": [
    "from numpy import random\n",
    "import matplotlib.pyplot as plt\n",
    "import seaborn as sns\n",
    "sns.displot(random.pareto(a=2,size=1000),bins=15)\n",
    "plt.show()"
   ]
  },
  {
   "cell_type": "code",
   "execution_count": null,
   "id": "a68e107a",
   "metadata": {},
   "outputs": [],
   "source": [
    "from numpy import random\n",
    "import matplotlib.pyplot as plt\n",
    "import seaborn as sns\n",
    "x=random.zipf(a=2,size=1000)\n",
    "sns.displot(x[x<10],kde=False,bins=20)\n",
    "plt.show()"
   ]
  },
  {
   "cell_type": "code",
   "execution_count": null,
   "id": "93673603",
   "metadata": {},
   "outputs": [],
   "source": [
    "from numpy import random\n",
    "import matplotlib.pyplot as plt\n",
    "import seaborn as sns\n",
    "sns.displot(random.poisson(lam=2,size=1000),kde=False)\n",
    "plt.show()"
   ]
  },
  {
   "cell_type": "code",
   "execution_count": null,
   "id": "7acbd5cc",
   "metadata": {},
   "outputs": [],
   "source": [
    "np.set_printoptions(threshold=float(\"inf\"))\n",
    "Z = np.zeros((10,10))\n",
    "print(Z)"
   ]
  },
  {
   "cell_type": "code",
   "execution_count": null,
   "id": "56fa5ab5",
   "metadata": {},
   "outputs": [],
   "source": [
    "import numpy as np\n",
    "x=np.random.rand(5,10)\n",
    "y=x-x.mean(axis=1,keepdims=True)\n",
    "y=x-x.mean(axis=1).reshape(-1,1)\n",
    "print(y)"
   ]
  },
  {
   "cell_type": "code",
   "execution_count": null,
   "id": "cd6f48bc",
   "metadata": {},
   "outputs": [],
   "source": [
    "x = np.random.randint(0,10,(3,3))\n",
    "print(x)\n",
    "print(x[x[:,1].argsort()])"
   ]
  },
  {
   "cell_type": "code",
   "execution_count": null,
   "id": "b1a535d2",
   "metadata": {},
   "outputs": [],
   "source": [
    "A = np.arange(3).reshape(3,1)\n",
    "B = np.arange(3).reshape(1,3)\n",
    "it = np.nditer([A,B,None])\n",
    "for x,y,z in it: z[...] = x + y\n",
    "print(it.operands[2])"
   ]
  },
  {
   "cell_type": "code",
   "execution_count": null,
   "id": "5b7be0ab",
   "metadata": {},
   "outputs": [],
   "source": [
    "import numpy as np\n",
    "X = [1,2,3,4,5,6]\n",
    "I = [1,3,9,3,4,1]\n",
    "F = np.bincount(I,X)\n",
    "print(F)"
   ]
  },
  {
   "cell_type": "code",
   "execution_count": null,
   "id": "67e0c83d",
   "metadata": {},
   "outputs": [],
   "source": [
    "Z = np.array([1,2,3,4,5])\n",
    "nz = 3\n",
    "Z0 = np.zeros(len(Z) + (len(Z)-1)*(nz))\n",
    "Z0[::nz+1] = Z\n",
    "print(Z0)"
   ]
  },
  {
   "cell_type": "code",
   "execution_count": null,
   "id": "c29dd37b",
   "metadata": {},
   "outputs": [],
   "source": [
    "A = np.ones((5,5,3))\n",
    "B = 2*np.ones((5,5))\n",
    "print(A * B[:,:,None])"
   ]
  },
  {
   "cell_type": "code",
   "execution_count": null,
   "id": "c8e9f89e",
   "metadata": {},
   "outputs": [],
   "source": [
    "import numpy as np\n",
    "C=np.bincount([1,2,3,4,5,6,7])\n",
    "a=np.repeat(np.arange(len(C)),C)"
   ]
  },
  {
   "cell_type": "code",
   "execution_count": null,
   "id": "b5148752",
   "metadata": {},
   "outputs": [],
   "source": [
    "print(a)"
   ]
  },
  {
   "cell_type": "code",
   "execution_count": null,
   "id": "55570e28",
   "metadata": {},
   "outputs": [],
   "source": [
    "C = np.bincount([1,1,2,3,4,4,6])\n",
    "A = np.repeat(np.arange(len(C)), C)\n",
    "print(A)"
   ]
  },
  {
   "cell_type": "code",
   "execution_count": null,
   "id": "8a39c740",
   "metadata": {},
   "outputs": [],
   "source": [
    "x=np.random.randint(0,2,10)\n",
    "np.logical_not(x,out=x)\n",
    "\n",
    "x1=np.random.uniform(-1.0,1.0,10)\n",
    "np.negative(x1,out=x1)"
   ]
  },
  {
   "cell_type": "code",
   "execution_count": null,
   "id": "e71faf52",
   "metadata": {},
   "outputs": [],
   "source": [
    "Z = np.random.randint(0,2,100)\n",
    "np.logical_not(Z, out=Z)\n",
    "\n",
    "Z = np.random.uniform(-1.0,1.0,100)\n",
    "np.negative(Z, out=Z)"
   ]
  },
  {
   "cell_type": "code",
   "execution_count": null,
   "id": "1d936221",
   "metadata": {},
   "outputs": [],
   "source": [
    "import numpy as np\n",
    "Z = np.arange(1,15,dtype=np.uint32)\n",
    "R = stride_tricks.as_strided(Z,(11,4),(4,4))\n",
    "print(R)"
   ]
  },
  {
   "cell_type": "code",
   "execution_count": null,
   "id": "275c796f",
   "metadata": {},
   "outputs": [],
   "source": [
    "Z=np.arange(1,15,dtype=np.uint32)\n",
    "R=stride_tricks.as_strided(Z,(11,4),(4,4))\n",
    "print(R)"
   ]
  },
  {
   "cell_type": "code",
   "execution_count": null,
   "id": "555de882",
   "metadata": {},
   "outputs": [],
   "source": [
    "Z = np.random.randint(0,10,50)\n",
    "print(np.bincount(Z).argmax())\n",
    "print(Z)"
   ]
  },
  {
   "cell_type": "code",
   "execution_count": null,
   "id": "00da1dff",
   "metadata": {},
   "outputs": [],
   "source": [
    "Z = np.arange(10000)\n",
    "np.random.shuffle(Z)\n",
    "n = 5\n",
    "\n",
    "# Slow\n",
    "print (Z[np.argsort(Z)[-n:]])\n",
    "\n",
    "# Fast\n",
    "print (Z[np.argpartition(-Z,n)[:n]])"
   ]
  },
  {
   "cell_type": "code",
   "execution_count": null,
   "id": "08f93f9a",
   "metadata": {},
   "outputs": [],
   "source": [
    "x=np.arange(10000)\n",
    "np.random.shuffle(x)\n",
    "n=5\n",
    "print(x[np.argsort(x)[-n:]])\n",
    "print(x[np.argpartition(-x,n)[:n]])"
   ]
  },
  {
   "cell_type": "code",
   "execution_count": null,
   "id": "a458741d",
   "metadata": {},
   "outputs": [],
   "source": [
    "Z = np.array([(\"Hello\", 2.5, 3),\n",
    "              (\"World\", 3.6, 2)])\n",
    "R = np.core.records.fromarrays(Z.T,\n",
    "                               names='col1, col2, col3',\n",
    "                               formats = 'S8, f8, i8')\n",
    "print(R)"
   ]
  },
  {
   "cell_type": "code",
   "execution_count": null,
   "id": "ea603fbb",
   "metadata": {},
   "outputs": [],
   "source": [
    "A = np.random.randint(0,5,(8,3))\n",
    "B = np.random.randint(0,5,(2,2))\n",
    "\n",
    "C = (A[..., np.newaxis, np.newaxis] == B)\n",
    "rows = np.where(C.any((3,1)).all(1))[0]\n",
    "print(rows)"
   ]
  },
  {
   "cell_type": "code",
   "execution_count": null,
   "id": "a15ae8f9",
   "metadata": {},
   "outputs": [],
   "source": [
    "Z = np.zeros((5,5), [('x',float),('y',float)])\n",
    "Z['x'], Z['y'] = np.meshgrid(np.linspace(0,1,5),\n",
    "                             np.linspace(0,1,5))\n",
    "print(Z)"
   ]
  },
  {
   "cell_type": "code",
   "execution_count": null,
   "id": "1f0fa81c",
   "metadata": {},
   "outputs": [],
   "source": [
    "for dtype in [np.int8, np.int32, np.int64]:\n",
    "    print(np.iinfo(dtype).min)\n",
    "    print(np.iinfo(dtype).max)\n",
    "for dtype in [np.float32, np.float64]:\n",
    "    print(np.finfo(dtype).min)\n",
    "    print(np.finfo(dtype).max)\n",
    "    print(np.finfo(dtype).eps)"
   ]
  },
  {
   "cell_type": "code",
   "execution_count": null,
   "id": "6b9de2e1",
   "metadata": {},
   "outputs": [],
   "source": [
    "import pandas as pd\n",
    "data=pd.read_csv(\"gugyu.csv\")\n",
    "data.head()"
   ]
  },
  {
   "cell_type": "code",
   "execution_count": null,
   "id": "32e9982d",
   "metadata": {},
   "outputs": [],
   "source": [
    "import pandas as pd\n",
    "df=pd.read_csv('listings.csv')\n",
    "df.head()"
   ]
  },
  {
   "cell_type": "code",
   "execution_count": null,
   "id": "aca0cd5a",
   "metadata": {},
   "outputs": [],
   "source": [
    "import pandas as pd\n",
    "df=pd.read_csv(\"C:\\\\Users\\\\Sindhu\\\\Desktop\\\\college_1.csv\")\n",
    "df.head()"
   ]
  },
  {
   "cell_type": "code",
   "execution_count": null,
   "id": "c284c496",
   "metadata": {},
   "outputs": [],
   "source": [
    "import pandas as pd\n",
    "df_1=pd.read_csv(\"C:\\\\Users\\\\Sindhu\\\\Desktop\\\\college_2.csv\")\n",
    "df.head()"
   ]
  },
  {
   "cell_type": "code",
   "execution_count": null,
   "id": "9394e3cb",
   "metadata": {},
   "outputs": [],
   "source": [
    "import numpy as np\n",
    "average=np.mean([41,119])"
   ]
  },
  {
   "cell_type": "code",
   "execution_count": null,
   "id": "50dfca06",
   "metadata": {},
   "outputs": [],
   "source": [
    "print(average)"
   ]
  },
  {
   "cell_type": "code",
   "execution_count": null,
   "id": "32e97ffd",
   "metadata": {},
   "outputs": [],
   "source": [
    "import pandas as pd\n",
    "\n",
    "# initialise data dictionary.\n",
    "data_dict = {'CustomerID': [1, 2, 3, 4, 5, 6, 7, 8, 9, 10],\n",
    "\t\t\t\n",
    "\t\t\t'Gender': [\"Male\", \"Female\", \"Female\", \"Male\",\n",
    "\t\t\t\t\t\t\"Male\", \"Female\", \"Male\", \"Male\",\n",
    "\t\t\t\t\t\t\"Female\", \"Male\"],\n",
    "\t\t\t\n",
    "\t\t\t'Age': [20, 21, 19, 18, 25, 26, 32, 41, 20, 19],\n",
    "\t\t\t\n",
    "\t\t\t'Annual Income(k$)': [10, 20, 30, 10, 25, 60, 70,\n",
    "\t\t\t\t\t\t\t\t15, 21, 22],\n",
    "\t\t\t\n",
    "\t\t\t'Spending Score': [30, 50, 48, 84, 90, 65, 32, 46,\n",
    "\t\t\t\t\t\t\t\t12, 56]}\n",
    "\n",
    "# Create DataFrame\n",
    "data = pd.DataFrame(data_dict)\n",
    "\n",
    "# Write to CSV file\n",
    "data.to_csv(\"Customers.csv\")\n",
    "\n",
    "# Print the output.\n",
    "print(data)\n"
   ]
  },
  {
   "cell_type": "code",
   "execution_count": null,
   "id": "07d0e92c",
   "metadata": {},
   "outputs": [],
   "source": [
    "import pandas as pd\n",
    "\n",
    "# read DataFrame\n",
    "data = pd.read_csv(\"Customers.csv\")\n",
    "\n",
    "# no of csv files with row size\n",
    "k = 2\n",
    "size = 5\n",
    "\n",
    "for i in range(k):\n",
    "\tdf = data[size*i:size*(i+1)]\n",
    "\tdf.to_csv(f'Customers_{i+1}.csv', index=False)\n",
    "\n",
    "df_1 = pd.read_csv(\"Customers_1.csv\")\n",
    "print(df_1)\n",
    "\n",
    "df_2 = pd.read_csv(\"Customers_2.csv\")\n",
    "print(df_2)\n"
   ]
  },
  {
   "cell_type": "code",
   "execution_count": null,
   "id": "7f38668f",
   "metadata": {},
   "outputs": [],
   "source": [
    "list=[1,2,3,4,5,6,7,8,9,10]\n",
    "for i in list:\n",
    "    if 4<i<7:\n",
    "        print(i)"
   ]
  },
  {
   "cell_type": "code",
   "execution_count": null,
   "id": "08d1d44e",
   "metadata": {},
   "outputs": [],
   "source": [
    "import numpy as np\n",
    "n=int(input())\n",
    "arr=np.random.randint(5,size=(n))"
   ]
  },
  {
   "cell_type": "code",
   "execution_count": null,
   "id": "2264d95b",
   "metadata": {},
   "outputs": [],
   "source": [
    "size=int(input('Enter array size'))\n",
    "for i in range(size):\n",
    "    element=int(input())\n",
    "for i in set(arr):\n",
    "    if arr.count(i)==1:\n",
    "        print(i,end=' ')"
   ]
  },
  {
   "cell_type": "code",
   "execution_count": null,
   "id": "654d91c1",
   "metadata": {},
   "outputs": [],
   "source": [
    "def firstnonrepeating(arr,n):\n",
    "    for i in range(n):\n",
    "        j=0\n",
    "        while(j<n):\n",
    "            if(i != j and arr[i] == arr[j]):\n",
    "                break\n",
    "            j += 1\n",
    "        if (j == n):\n",
    "            print(arr[i])\n",
    "m=int(input())\n",
    "arr=[int(x) for x in input().split()]\n",
    "n=len(arr)\n",
    "firstnonrepeating(arr,n)"
   ]
  },
  {
   "cell_type": "code",
   "execution_count": null,
   "id": "00b87204",
   "metadata": {},
   "outputs": [],
   "source": [
    "try:\n",
    "    n=int(input())\n",
    "    arr=[int(x) for x in input().split()]\n",
    "    for i in range(len(arr)-1,-1,-1):\n",
    "         print(arr[i],end=' ')\n",
    "except:\n",
    "    pass"
   ]
  },
  {
   "cell_type": "code",
   "execution_count": null,
   "id": "6efd9fb1",
   "metadata": {},
   "outputs": [],
   "source": [
    "import numpy as np\n",
    "n=5\n",
    "arr=[int(x) for x in input().split()]\n"
   ]
  },
  {
   "cell_type": "code",
   "execution_count": null,
   "id": "2fa8f14c",
   "metadata": {},
   "outputs": [],
   "source": [
    "a_list = [\"a\", \"b\", \"c\"]\n",
    "\n",
    "del a_list[1]"
   ]
  },
  {
   "cell_type": "code",
   "execution_count": null,
   "id": "92685865",
   "metadata": {},
   "outputs": [],
   "source": [
    "a_list"
   ]
  },
  {
   "cell_type": "code",
   "execution_count": null,
   "id": "32fd7375",
   "metadata": {},
   "outputs": [],
   "source": [
    "def reverseList(A, start, end):\n",
    "    while start < end:\n",
    "        A[start], A[end] = A[end], A[start]\n",
    "        start += 1\n",
    "        end -= 1\n",
    " \n",
    "# Driver function to test above function\n",
    "A = [1, 2, 3, 4, 5, 6]\n",
    "print(A)\n",
    "reverseList(A, 0, 5)\n",
    "print(\"Reversed list is\")\n",
    "print(A)"
   ]
  },
  {
   "cell_type": "code",
   "execution_count": null,
   "id": "7289be62",
   "metadata": {},
   "outputs": [],
   "source": [
    "def reverselist(A, start, end):\n",
    "    while start < end:\n",
    "        A[start], A[end] = A[end], A[start]\n",
    "        start += 1\n",
    "        end -= 1\n",
    "n=int(input())\n",
    "A=[int(x) for x in input().split()]\n",
    "start=len(A)-len(A)\n",
    "end=len(A)-1\n",
    "reverselist(A,start,end)\n",
    "print(*A)"
   ]
  },
  {
   "cell_type": "code",
   "execution_count": null,
   "id": "bf877239",
   "metadata": {},
   "outputs": [],
   "source": [
    "A=[int(x) for x in input().split()]\n",
    "start=len(A)-len(A)\n",
    "end=len(A)-1\n",
    "print(start,end)"
   ]
  },
  {
   "cell_type": "code",
   "execution_count": null,
   "id": "7ae9fdfd",
   "metadata": {},
   "outputs": [],
   "source": [
    "n=map(int,input())\n",
    "arr=[int(x) for x in input().split()]\n",
    "sum = arr[len(arr)-1] + arr[len(arr)-2] + arr[len(arr)-3]\n",
    "for i in range(len(arr)):\n",
    "    print(arr[i] - sum,end=' ')\n"
   ]
  },
  {
   "cell_type": "code",
   "execution_count": null,
   "id": "bfa6a648",
   "metadata": {},
   "outputs": [],
   "source": [
    "def netgoalrate(n,arr):\n",
    "    sum=arr[len(arr)-1] + arr[len(arr)-2] + arr[len(arr)-3]\n",
    "    for i in range(len(arr)):\n",
    "        print(arr[i]-sum,end=' ')\n",
    "n=int(input())\n",
    "arr=[int(x) for x in input().split()]\n",
    "netgoalrate(n,arr)"
   ]
  },
  {
   "cell_type": "code",
   "execution_count": null,
   "id": "152b9ccf",
   "metadata": {},
   "outputs": [],
   "source": [
    "n,m=map(int,input().split())\n",
    "if n<5:\n",
    "    print((n*m)-5)\n",
    "else:\n",
    "    print((n*5)+m)"
   ]
  },
  {
   "cell_type": "code",
   "execution_count": null,
   "id": "12e623d6",
   "metadata": {},
   "outputs": [],
   "source": [
    "n=int(input())\n",
    "even_factor=[]\n",
    "for i in range(1,n+1):\n",
    "    if n % i == 0 and i % 2 == 0:\n",
    "        even_factor.append(i)\n",
    "        print(*even_factor)\n",
    "    else:\n",
    "        print('-1')\n",
    "        break"
   ]
  },
  {
   "cell_type": "code",
   "execution_count": null,
   "id": "58e3c2b0",
   "metadata": {},
   "outputs": [],
   "source": [
    "n,k,m=input().split()\n",
    "for char in n:\n",
    "    if char in k and m:\n",
    "        print(char,end='')\n",
    "   "
   ]
  },
  {
   "cell_type": "code",
   "execution_count": null,
   "id": "8b477551",
   "metadata": {},
   "outputs": [],
   "source": [
    "n,k,m=input().split()\n",
    "for char in n:\n",
    "    if char in k and char in m:\n",
    "        print(char,end='')\n",
    "    elif char not in k and char not in m:\n",
    "        print('-1')\n",
    "        break"
   ]
  },
  {
   "cell_type": "code",
   "execution_count": null,
   "id": "3db6f3cb",
   "metadata": {},
   "outputs": [],
   "source": [
    "def reverseword(a):\n",
    "    w=a.split(' ')\n",
    "    n=[i[::-1]for i in w]\n",
    "    ns=' '.join(n)\n",
    "    return ns\n",
    "a=input()\n",
    "print(reverseword(a))"
   ]
  },
  {
   "cell_type": "code",
   "execution_count": null,
   "id": "5a79e524",
   "metadata": {},
   "outputs": [],
   "source": [
    "s=input()\n",
    "reverse=s[::-1]\n",
    "print(reverse)"
   ]
  },
  {
   "cell_type": "code",
   "execution_count": null,
   "id": "90a8c10a",
   "metadata": {},
   "outputs": [],
   "source": [
    "n='guvi geeks'\n",
    "print(n.title())"
   ]
  },
  {
   "cell_type": "code",
   "execution_count": null,
   "id": "eb26845c",
   "metadata": {},
   "outputs": [],
   "source": [
    "print(n='guvi geeks',n.title())"
   ]
  },
  {
   "cell_type": "code",
   "execution_count": null,
   "id": "54e736db",
   "metadata": {},
   "outputs": [],
   "source": [
    "def func(num):\n",
    "    return max(map(len, num[2:].split('0')))\n",
    "num=int(input())\n",
    "func(num)"
   ]
  },
  {
   "cell_type": "code",
   "execution_count": 3,
   "id": "4f2f7121",
   "metadata": {},
   "outputs": [
    {
     "name": "stdout",
     "output_type": "stream",
     "text": [
      "101011111\n",
      "-1\n",
      "-1\n",
      "-1\n",
      "-1\n",
      "-1\n",
      "-1\n",
      "-1\n"
     ]
    }
   ],
   "source": [
    "def maxConsecutive1(n):\n",
    "    n=n[2:]\n",
    "    for i in n:\n",
    "        if i != 1:\n",
    "            print('-1')\n",
    "        elif i == 1:\n",
    "            a=max(map(len,n.split('0')))\n",
    "            print(a)\n",
    "if __name__ == '__main__':\n",
    "    n=input()\n",
    "    maxConsecutive1(n)"
   ]
  },
  {
   "cell_type": "code",
   "execution_count": null,
   "id": "08e895f2",
   "metadata": {},
   "outputs": [],
   "source": [
    "def maxConsecutive1(n):\n",
    "    n=n[2:]"
   ]
  },
  {
   "cell_type": "code",
   "execution_count": 5,
   "id": "6557708a",
   "metadata": {},
   "outputs": [
    {
     "name": "stdout",
     "output_type": "stream",
     "text": [
      "00000000\n"
     ]
    },
    {
     "ename": "TypeError",
     "evalue": "'in <string>' requires string as left operand, not int",
     "output_type": "error",
     "traceback": [
      "\u001b[1;31m---------------------------------------------------------------------------\u001b[0m",
      "\u001b[1;31mTypeError\u001b[0m                                 Traceback (most recent call last)",
      "\u001b[1;32m~\\AppData\\Local\\Temp/ipykernel_29620/3387762649.py\u001b[0m in \u001b[0;36m<module>\u001b[1;34m\u001b[0m\n\u001b[0;32m      1\u001b[0m \u001b[0mn\u001b[0m\u001b[1;33m=\u001b[0m\u001b[0minput\u001b[0m\u001b[1;33m(\u001b[0m\u001b[1;33m)\u001b[0m\u001b[1;33m\u001b[0m\u001b[1;33m\u001b[0m\u001b[0m\n\u001b[0;32m      2\u001b[0m \u001b[0mn\u001b[0m\u001b[1;33m=\u001b[0m\u001b[0mn\u001b[0m\u001b[1;33m[\u001b[0m\u001b[1;36m2\u001b[0m\u001b[1;33m:\u001b[0m\u001b[1;33m]\u001b[0m\u001b[1;33m\u001b[0m\u001b[1;33m\u001b[0m\u001b[0m\n\u001b[1;32m----> 3\u001b[1;33m \u001b[1;32mif\u001b[0m \u001b[1;36m1\u001b[0m \u001b[1;32mnot\u001b[0m \u001b[1;32min\u001b[0m \u001b[0mn\u001b[0m\u001b[1;33m:\u001b[0m\u001b[1;33m\u001b[0m\u001b[1;33m\u001b[0m\u001b[0m\n\u001b[0m\u001b[0;32m      4\u001b[0m     \u001b[0mprint\u001b[0m\u001b[1;33m(\u001b[0m\u001b[1;34m'-1'\u001b[0m\u001b[1;33m)\u001b[0m\u001b[1;33m\u001b[0m\u001b[1;33m\u001b[0m\u001b[0m\n",
      "\u001b[1;31mTypeError\u001b[0m: 'in <string>' requires string as left operand, not int"
     ]
    }
   ],
   "source": [
    "n=input()\n",
    "n=n[2:]\n",
    "if 1 not in n:\n",
    "    print('-1')"
   ]
  },
  {
   "cell_type": "code",
   "execution_count": 6,
   "id": "a57c8908",
   "metadata": {},
   "outputs": [
    {
     "name": "stdout",
     "output_type": "stream",
     "text": [
      "6\n",
      "112 139 165 175 262 130\n",
      "22\n",
      "0 0 0 0 0 0 "
     ]
    }
   ],
   "source": [
    "n=int(input())\n",
    "arr=[int(x) for x in input().split()]\n",
    "m=int(input())\n",
    "for i in range(0,len(arr)):\n",
    "    if arr[i] % m == 0:\n",
    "        print(\"1\",end=' ')\n",
    "    else:\n",
    "        print(\"0\",end=' ')"
   ]
  },
  {
   "cell_type": "code",
   "execution_count": 10,
   "id": "163b028c",
   "metadata": {},
   "outputs": [
    {
     "name": "stdout",
     "output_type": "stream",
     "text": [
      "123 132 213 231 312 321\n"
     ]
    }
   ],
   "source": [
    "from itertools import permutations\n",
    "perms = [''.join(p) for p in permutations('123')]\n",
    "print(*perms)"
   ]
  },
  {
   "cell_type": "code",
   "execution_count": 16,
   "id": "d7b14108",
   "metadata": {},
   "outputs": [
    {
     "name": "stdout",
     "output_type": "stream",
     "text": [
      "1 3\n",
      "2 4 6\n",
      "0 9 10 11\n"
     ]
    },
    {
     "ename": "TypeError",
     "evalue": "int() argument must be a string, a bytes-like object or a number, not 'list'",
     "output_type": "error",
     "traceback": [
      "\u001b[1;31m---------------------------------------------------------------------------\u001b[0m",
      "\u001b[1;31mTypeError\u001b[0m                                 Traceback (most recent call last)",
      "\u001b[1;32m~\\AppData\\Local\\Temp/ipykernel_29620/2657248690.py\u001b[0m in \u001b[0;36m<module>\u001b[1;34m\u001b[0m\n\u001b[0;32m      3\u001b[0m \u001b[0mk\u001b[0m\u001b[1;33m=\u001b[0m\u001b[0minput\u001b[0m\u001b[1;33m(\u001b[0m\u001b[1;33m)\u001b[0m\u001b[1;33m.\u001b[0m\u001b[0msplit\u001b[0m\u001b[1;33m(\u001b[0m\u001b[1;33m)\u001b[0m\u001b[1;33m\u001b[0m\u001b[1;33m\u001b[0m\u001b[0m\n\u001b[0;32m      4\u001b[0m \u001b[0mA\u001b[0m\u001b[1;33m=\u001b[0m\u001b[1;33m[\u001b[0m\u001b[0mm\u001b[0m\u001b[1;33m+\u001b[0m\u001b[0mn\u001b[0m\u001b[1;33m+\u001b[0m\u001b[0mk\u001b[0m\u001b[1;33m]\u001b[0m\u001b[1;33m\u001b[0m\u001b[1;33m\u001b[0m\u001b[0m\n\u001b[1;32m----> 5\u001b[1;33m \u001b[0mA\u001b[0m\u001b[1;33m=\u001b[0m\u001b[0mint\u001b[0m\u001b[1;33m(\u001b[0m\u001b[0mA\u001b[0m\u001b[1;33m)\u001b[0m\u001b[1;33m\u001b[0m\u001b[1;33m\u001b[0m\u001b[0m\n\u001b[0m\u001b[0;32m      6\u001b[0m \u001b[0mprint\u001b[0m\u001b[1;33m(\u001b[0m\u001b[0mA\u001b[0m\u001b[1;33m)\u001b[0m\u001b[1;33m\u001b[0m\u001b[1;33m\u001b[0m\u001b[0m\n",
      "\u001b[1;31mTypeError\u001b[0m: int() argument must be a string, a bytes-like object or a number, not 'list'"
     ]
    }
   ],
   "source": [
    "m=input().split()\n",
    "n=input().split()\n",
    "k=input().split()\n",
    "A=[m+n+k]\n",
    "A=int(A)\n",
    "print(A)"
   ]
  },
  {
   "cell_type": "code",
   "execution_count": 18,
   "id": "10fd775d",
   "metadata": {},
   "outputs": [
    {
     "name": "stdout",
     "output_type": "stream",
     "text": [
      "Enter number of elements:5\n",
      "Enter element:6\n",
      "Enter element:4\n",
      "Enter element:6\n",
      "Enter element:3\n",
      "Enter element:5\n",
      "Enter number of elements:3\n",
      "Enter element:8\n",
      "Enter element:4\n",
      "Enter element:5\n",
      "Sorted list is: [3, 4, 4, 5, 5, 6, 6, 8]\n"
     ]
    }
   ],
   "source": [
    "a=[]\n",
    "c=[]\n",
    "n1=int(input(\"Enter number of elements:\"))\n",
    "for i in range(1,n1+1):\n",
    "    b=int(input(\"Enter element:\"))\n",
    "    a.append(b)\n",
    "n2=int(input(\"Enter number of elements:\"))\n",
    "for i in range(1,n2+1):\n",
    "    d=int(input(\"Enter element:\"))\n",
    "    c.append(d)\n",
    "new=a+c\n",
    "new.sort()\n",
    "print(\"Sorted list is:\",new)"
   ]
  },
  {
   "cell_type": "code",
   "execution_count": 20,
   "id": "c3ccead7",
   "metadata": {},
   "outputs": [
    {
     "name": "stdout",
     "output_type": "stream",
     "text": [
      "5\n",
      "8 8 1 1 3\n",
      "3 1 1 8 8\n"
     ]
    }
   ],
   "source": [
    "def reverselist(A,start,end):\n",
    "    while(start<end):\n",
    "        A[start],A[end]=A[end],A[start]\n",
    "        start += 1\n",
    "        end -= 1\n",
    "n=int(input())\n",
    "A=[int(x) for x in input().split()]\n",
    "start=len(A)-len(A)\n",
    "end=len(A)-1\n",
    "reverselist(A,start,end)\n",
    "print(*A)"
   ]
  },
  {
   "cell_type": "code",
   "execution_count": 21,
   "id": "4a2a719b",
   "metadata": {},
   "outputs": [
    {
     "name": "stdout",
     "output_type": "stream",
     "text": [
      "5\n",
      "5 25 35 -5 30\n",
      "1\n"
     ]
    }
   ],
   "source": [
    "n=int(input())\n",
    "arr=[int(x) for x in input().split()]\n",
    "sum=0\n",
    "for i in range(0,len(arr)):\n",
    "    sum=sum+arr[i]\n",
    "A=sum\n",
    "if (A % 2 == 0) and (A % 3 == 0) and (A % 5 == 0):\n",
    "    print('1')\n",
    "else:\n",
    "    print('0')"
   ]
  },
  {
   "cell_type": "code",
   "execution_count": 22,
   "id": "9b04c69e",
   "metadata": {},
   "outputs": [
    {
     "name": "stdout",
     "output_type": "stream",
     "text": [
      "3\n",
      "i am jsb\n",
      "am i jsb "
     ]
    }
   ],
   "source": [
    "try:\n",
    "    n = int(input())\n",
    "    my_str = input()  \n",
    "    words = my_str.split()  \n",
    "    words.sort()  \n",
    "    for word in words:  \n",
    "        print(word,end=' ')  \n",
    "except:\n",
    "    pass"
   ]
  },
  {
   "cell_type": "code",
   "execution_count": 24,
   "id": "fd8cc823",
   "metadata": {},
   "outputs": [
    {
     "name": "stdout",
     "output_type": "stream",
     "text": [
      "AC30BD40\n"
     ]
    }
   ],
   "source": [
    "n=input()\n",
    "sum=0\n",
    "for i in n:\n",
    "    if i == 0 or i == 1 or i == 2 or i == 3 or i == 4 or i == 5 or i == 6 or i == 7 or i == 8 or i == 9:\n",
    "        sum += int(i)\n",
    "        print(sum)"
   ]
  },
  {
   "cell_type": "code",
   "execution_count": 25,
   "id": "30eaee35",
   "metadata": {},
   "outputs": [
    {
     "name": "stdout",
     "output_type": "stream",
     "text": [
      "sadsad\n",
      "*ad*ad\n"
     ]
    }
   ],
   "source": [
    "n=input()\n",
    "A=len(n)\n",
    "middle=A//2\n",
    "B=n[middle]\n",
    "C=n.replace(B,'*')\n",
    "print(C)"
   ]
  },
  {
   "cell_type": "code",
   "execution_count": 29,
   "id": "fee30c3d",
   "metadata": {},
   "outputs": [
    {
     "name": "stdout",
     "output_type": "stream",
     "text": [
      "abcddee\n",
      "d e\n"
     ]
    }
   ],
   "source": [
    "string=input()\n",
    "duplicates=[]\n",
    "for char in string:\n",
    "    if string.count(char) > 1:\n",
    "        if char not in duplicates:\n",
    "            duplicates.append(char)\n",
    "print(*duplicates)"
   ]
  },
  {
   "cell_type": "code",
   "execution_count": 37,
   "id": "eddb0707",
   "metadata": {},
   "outputs": [
    {
     "name": "stdout",
     "output_type": "stream",
     "text": [
      "guvi geeks\n",
      "-1\n",
      "uvi"
     ]
    }
   ],
   "source": [
    "n,m=input().split()\n",
    "for char in n:\n",
    "    if char in m:\n",
    "        print('-1')\n",
    "    elif char not in m:\n",
    "        print(char,end='')\n",
    "        "
   ]
  },
  {
   "cell_type": "code",
   "execution_count": 42,
   "id": "c1dbe6b0",
   "metadata": {},
   "outputs": [
    {
     "name": "stdout",
     "output_type": "stream",
     "text": [
      "1\n"
     ]
    }
   ],
   "source": [
    "string='I enjoy codekata'\n",
    "s='codekata'\n",
    "A=string.count(s)\n",
    "if A == 0:\n",
    "    print('-1')\n",
    "else:\n",
    "    print(A)"
   ]
  },
  {
   "cell_type": "code",
   "execution_count": 45,
   "id": "85796cb9",
   "metadata": {},
   "outputs": [
    {
     "name": "stdout",
     "output_type": "stream",
     "text": [
      "codekata\n"
     ]
    },
    {
     "ename": "TypeError",
     "evalue": "replace expected at least 2 arguments, got 1",
     "output_type": "error",
     "traceback": [
      "\u001b[1;31m---------------------------------------------------------------------------\u001b[0m",
      "\u001b[1;31mTypeError\u001b[0m                                 Traceback (most recent call last)",
      "\u001b[1;32m~\\AppData\\Local\\Temp/ipykernel_29620/2845924514.py\u001b[0m in \u001b[0;36m<module>\u001b[1;34m\u001b[0m\n\u001b[0;32m      1\u001b[0m \u001b[0mn\u001b[0m\u001b[1;33m=\u001b[0m\u001b[0minput\u001b[0m\u001b[1;33m(\u001b[0m\u001b[1;33m)\u001b[0m\u001b[1;33m\u001b[0m\u001b[1;33m\u001b[0m\u001b[0m\n\u001b[1;32m----> 2\u001b[1;33m \u001b[0mprint\u001b[0m\u001b[1;33m(\u001b[0m\u001b[0mn\u001b[0m\u001b[1;33m[\u001b[0m\u001b[1;36m0\u001b[0m\u001b[1;33m]\u001b[0m\u001b[1;33m,\u001b[0m\u001b[0mn\u001b[0m\u001b[1;33m[\u001b[0m\u001b[1;36m2\u001b[0m\u001b[1;33m]\u001b[0m\u001b[1;33m.\u001b[0m\u001b[0mreplace\u001b[0m\u001b[1;33m(\u001b[0m\u001b[1;34m' '\u001b[0m\u001b[1;33m)\u001b[0m\u001b[1;33m)\u001b[0m\u001b[1;33m\u001b[0m\u001b[1;33m\u001b[0m\u001b[0m\n\u001b[0m",
      "\u001b[1;31mTypeError\u001b[0m: replace expected at least 2 arguments, got 1"
     ]
    }
   ],
   "source": [
    "n=input()\n",
    "print(n[0],n[2].replace(' '))"
   ]
  },
  {
   "cell_type": "code",
   "execution_count": 57,
   "id": "54ad84ec",
   "metadata": {},
   "outputs": [
    {
     "name": "stdout",
     "output_type": "stream",
     "text": [
      "codekata\n",
      "c o\n"
     ]
    }
   ],
   "source": [
    "n=input()\n",
    "print(n[0],n[1])"
   ]
  },
  {
   "cell_type": "code",
   "execution_count": null,
   "id": "f2f08b96",
   "metadata": {},
   "outputs": [],
   "source": []
  }
 ],
 "metadata": {
  "kernelspec": {
   "display_name": "Python 3 (ipykernel)",
   "language": "python",
   "name": "python3"
  },
  "language_info": {
   "codemirror_mode": {
    "name": "ipython",
    "version": 3
   },
   "file_extension": ".py",
   "mimetype": "text/x-python",
   "name": "python",
   "nbconvert_exporter": "python",
   "pygments_lexer": "ipython3",
   "version": "3.9.6"
  }
 },
 "nbformat": 4,
 "nbformat_minor": 5
}
